{
 "cells": [
  {
   "cell_type": "markdown",
   "metadata": {},
   "source": [
    "# Problem Statement"
   ]
  },
  {
   "cell_type": "markdown",
   "metadata": {},
   "source": [
    "*For this project, you must create a data set by simulationing a real world phenomenom of your choosing. You may pick any phenomenom you wish - you might pick one that is of interest to you in your personal or professional life. Then, rather than collect data related to the phenomenum, you should model and synthesize such data using Python. We suggest you use the numpy.random package for this purpose.*"
   ]
  },
  {
   "cell_type": "markdown",
   "metadata": {},
   "source": [
    "## References\n",
    "\n",
    "- https://en.wikipedia.org/wiki/Red_Hat\n",
    "- https://searchsoftwarequality.techtarget.com/definition/histogram\n",
    "- https://en.wikipedia.org/wiki/Simpson%27s_paradox"
   ]
  },
  {
   "cell_type": "markdown",
   "metadata": {},
   "source": [
    "### 1. Choose a real-world phenomenom that can be measured and for which you could collect at least one-hundred data points across at least four different variables.\n",
    "\n",
    "![Consulting](https://raw.githubusercontent.com/fionanealon/KPI/master/img/consulting2.jpeg)"
   ]
  },
  {
   "cell_type": "markdown",
   "metadata": {},
   "source": [
    "### Real-world pheomenon"
   ]
  },
  {
   "cell_type": "markdown",
   "metadata": {},
   "source": [
    "Red Hat, Inc. is an American multinational software company providing open-source software products to the enterprise community. Red Hat provides storage, operating system platforms, middleware, applications, management products, and support, training, and consulting services.[Ref: Red Hat](https://en.wikipedia.org/wiki/Red_Hat)\n",
    "\n",
    "I have based my research on a recent engagement delivered by the consulting services divison of Red Hat. This engagement was delivered by three resource types - consultant, architect and program manager.\n",
    "\n",
    "The consulting services division have consistently been finding anomolies in one of their key performances indicators - the sales to expenses ratio. The sales to expenses ratio shows the efficiency of a company's management by comparing sales to expenses. The larger the ratio, the greater the organization's ability to generate profit if expenses increase.\n",
    "\n",
    "Consulting services has requested me to devise an algorithm to assist with a more accurate calculation of the sales expenses ratio and to demonstrate how bill rate, hours, total expenses and resource types all have an effect on it's performance."
   ]
  },
  {
   "cell_type": "markdown",
   "metadata": {},
   "source": [
    "### Simpson's paradox"
   ]
  },
  {
   "cell_type": "markdown",
   "metadata": {},
   "source": [
    "Simpson's paradox is a phenomenon in probability and statistics in which a trend appears in several different groups of data but is diminished or reversed when these groups are combined. [Ref: Simpson's papradox](https://en.wikipedia.org/wiki/Simpson%27s_paradox)"
   ]
  },
  {
   "cell_type": "markdown",
   "metadata": {},
   "source": [
    "### Engagement A"
   ]
  },
  {
   "cell_type": "markdown",
   "metadata": {},
   "source": [
    "See below an example of Simpson's parodox. For enagagement A, 100 hours at a bill rate of 250 have been delivered by an architect. 500 hours at a bill rate of 180 have been delivered by an architect. 200 hours at a bill rate of 150 have been delivered by a program manager. Expenses for architects are 6000, for consultants are 10000 and for program managers are 7000."
   ]
  },
  {
   "cell_type": "code",
   "execution_count": 1,
   "metadata": {},
   "outputs": [
    {
     "data": {
      "text/plain": [
       "4.166666666666667"
      ]
     },
     "execution_count": 1,
     "metadata": {},
     "output_type": "execute_result"
    }
   ],
   "source": [
    "architect_sales_expenses_ratio = (100 * 250) / 6000\n",
    "architect_sales_expenses_ratio"
   ]
  },
  {
   "cell_type": "code",
   "execution_count": 2,
   "metadata": {},
   "outputs": [
    {
     "data": {
      "text/plain": [
       "9.0"
      ]
     },
     "execution_count": 2,
     "metadata": {},
     "output_type": "execute_result"
    }
   ],
   "source": [
    "consultant_sales_expenses_ratio = (500 * 180) / 10000\n",
    "consultant_sales_expenses_ratio"
   ]
  },
  {
   "cell_type": "code",
   "execution_count": 3,
   "metadata": {},
   "outputs": [
    {
     "data": {
      "text/plain": [
       "4.285714285714286"
      ]
     },
     "execution_count": 3,
     "metadata": {},
     "output_type": "execute_result"
    }
   ],
   "source": [
    "program_manager_sales_expenses_ratio = (200 * 150) / 7000\n",
    "program_manager_sales_expenses_ratio"
   ]
  },
  {
   "cell_type": "code",
   "execution_count": 4,
   "metadata": {},
   "outputs": [
    {
     "data": {
      "text/plain": [
       "6.304347826086956"
      ]
     },
     "execution_count": 4,
     "metadata": {},
     "output_type": "execute_result"
    }
   ],
   "source": [
    "consulting_services_sales_expenses_ratio = ((100 * 250) + (500 * 180) + (200 * 150)) / (6000 + 10000 + 7000)\n",
    "consulting_services_sales_expenses_ratio"
   ]
  },
  {
   "cell_type": "markdown",
   "metadata": {},
   "source": [
    "The aggregate sales to expenses ratio for consulting services is 6.3. The target ratio is 5.0 so it appears that the consulting services is over-achieving in this ratio. However, what this ratio does not demonstrate is that the architect sales expense ratio and the program manager sales expense ratio is under achieving and that consultant sales expense ratio is achieving over and above.\n",
    "\n",
    "Managers may need to review the expenses incurred by architects and program managers in order to maixmise the sales to expenses ratio. This is hidden by the consulting services sales ratio."
   ]
  },
  {
   "cell_type": "markdown",
   "metadata": {},
   "source": [
    "### 2. Investigate the types of variables involved, their likely distributions, and their relationships with each other."
   ]
  },
  {
   "cell_type": "markdown",
   "metadata": {},
   "source": [
    "**Bill rate**\n",
    "\n",
    "*Bill rate* is the second variable of the data set. This is the value of what we bill the customer for each hour worked by each employee on the engagement.\n",
    "\n",
    "**Hours**\n",
    "\n",
    "*Hours* is the first variable of the data set. It is the number of hours that is worked by each employee working on the engagement.\n",
    "\n",
    "**Total expenses**\n",
    "\n",
    "*Total expenses* is the third variable of the data set. This is the value of expenses incurred by each employy working on the engagement.\n",
    "\n",
    "**Resource type**\n",
    "\n",
    "*Resource type* is the fourth variable of the data set. This is the classification of each employee working on the engagement - architect, consultant and program manager. Architects are the most qualified of the three resource types, followed by the consultant resource type and then the program manager resource type.\n",
    "\n",
    "**Sales to expense ratio**\n",
    "\n",
    "The Sales to expense ratio is the fifth variable of the data set. After some research, I have found that this is most interesting variable relating to my data set. Upon investigation on the of the problem, I find that *(hours)* multiplied by *(bill rate)* gives the total sales for the engagement. Total sales divided by total expense is the sales to expense ratio for the engagement.\n",
    "\n",
    "Sales to expense is a key performance indicator. The aim of the consulting services should be to maximise the bill rate they are charging for their service and also to maximise the number of hours it is taking to deliver the services while minimising the total expenses incurred from delivering the services. Employees who deliver a higher number of hours at a higher bill rate but with the lowest possible total expenses will excel at this key performance indicator."
   ]
  },
  {
   "cell_type": "markdown",
   "metadata": {},
   "source": [
    "### 3. Synthesise/simulate a data set as closely matching their properties as possible."
   ]
  },
  {
   "cell_type": "markdown",
   "metadata": {},
   "source": [
    "![pandas logo](https://pandas.pydata.org/_static/pandas_logo.png)\n",
    "\n",
    "![Iris flowers](https://s3.amazonaws.com/assets.datacamp.com/blog_assets/Machine+Learning+R/iris-machinelearning.png)\n"
   ]
  },
  {
   "cell_type": "markdown",
   "metadata": {},
   "source": [
    "- Iris Data set\n",
    "- Great for developing alogrithms and classiifcation\n",
    "- Pandas"
   ]
  },
  {
   "cell_type": "code",
   "execution_count": 5,
   "metadata": {},
   "outputs": [],
   "source": [
    "%matplotlib inline"
   ]
  },
  {
   "cell_type": "code",
   "execution_count": 6,
   "metadata": {},
   "outputs": [],
   "source": [
    "import pandas as pd\n",
    "import seaborn as sns\n",
    "import numpy as np\n",
    "# The neighbors subpackage of the sklearn package for building nearest neighbors algorithms\n",
    "import sklearn.neighbors as nei\n",
    "# The model_selection subpackage of the sklearn package for testing nearest neighbors algorithms\n",
    "import sklearn.model_selection as mod\n",
    "import scipy.stats as ss\n",
    "import matplotlib.pyplot as plt\n",
    "\n",
    "# Set global parameter for using ggplot plotting style\n",
    "plt.style.use('ggplot')\n",
    "# Set the size of plots\n",
    "plt.rcParams['figure.figsize'] = 14, 10"
   ]
  },
  {
   "cell_type": "markdown",
   "metadata": {},
   "source": [
    "### Loading data"
   ]
  },
  {
   "cell_type": "code",
   "execution_count": 7,
   "metadata": {},
   "outputs": [],
   "source": [
    "df = pd.read_csv(\"https://raw.githubusercontent.com/fionanealon/datasets/master/kpi.csv\")"
   ]
  },
  {
   "cell_type": "markdown",
   "metadata": {},
   "source": [
    "### Find the mean"
   ]
  },
  {
   "cell_type": "code",
   "execution_count": 8,
   "metadata": {},
   "outputs": [
    {
     "data": {
      "text/html": [
       "<div>\n",
       "<style scoped>\n",
       "    .dataframe tbody tr th:only-of-type {\n",
       "        vertical-align: middle;\n",
       "    }\n",
       "\n",
       "    .dataframe tbody tr th {\n",
       "        vertical-align: top;\n",
       "    }\n",
       "\n",
       "    .dataframe thead th {\n",
       "        text-align: right;\n",
       "    }\n",
       "</style>\n",
       "<table border=\"1\" class=\"dataframe\">\n",
       "  <thead>\n",
       "    <tr style=\"text-align: right;\">\n",
       "      <th></th>\n",
       "      <th>total_expenses</th>\n",
       "      <th>bill_rate</th>\n",
       "      <th>hours</th>\n",
       "    </tr>\n",
       "    <tr>\n",
       "      <th>resource</th>\n",
       "      <th></th>\n",
       "      <th></th>\n",
       "      <th></th>\n",
       "    </tr>\n",
       "  </thead>\n",
       "  <tbody>\n",
       "    <tr>\n",
       "      <th>Architect</th>\n",
       "      <td>250.3</td>\n",
       "      <td>170.9</td>\n",
       "      <td>73.2</td>\n",
       "    </tr>\n",
       "    <tr>\n",
       "      <th>Consultant</th>\n",
       "      <td>329.4</td>\n",
       "      <td>148.7</td>\n",
       "      <td>277.6</td>\n",
       "    </tr>\n",
       "    <tr>\n",
       "      <th>Program-Manager</th>\n",
       "      <td>296.8</td>\n",
       "      <td>138.5</td>\n",
       "      <td>213.0</td>\n",
       "    </tr>\n",
       "  </tbody>\n",
       "</table>\n",
       "</div>"
      ],
      "text/plain": [
       "                 total_expenses  bill_rate  hours\n",
       "resource                                         \n",
       "Architect                 250.3      170.9   73.2\n",
       "Consultant                329.4      148.7  277.6\n",
       "Program-Manager           296.8      138.5  213.0"
      ]
     },
     "execution_count": 8,
     "metadata": {},
     "output_type": "execute_result"
    }
   ],
   "source": [
    "df.groupby('resource').mean()"
   ]
  },
  {
   "cell_type": "markdown",
   "metadata": {},
   "source": [
    "### Find the standard deviation"
   ]
  },
  {
   "cell_type": "code",
   "execution_count": 9,
   "metadata": {},
   "outputs": [
    {
     "data": {
      "text/html": [
       "<div>\n",
       "<style scoped>\n",
       "    .dataframe tbody tr th:only-of-type {\n",
       "        vertical-align: middle;\n",
       "    }\n",
       "\n",
       "    .dataframe tbody tr th {\n",
       "        vertical-align: top;\n",
       "    }\n",
       "\n",
       "    .dataframe thead th {\n",
       "        text-align: right;\n",
       "    }\n",
       "</style>\n",
       "<table border=\"1\" class=\"dataframe\">\n",
       "  <thead>\n",
       "    <tr style=\"text-align: right;\">\n",
       "      <th></th>\n",
       "      <th>total_expenses</th>\n",
       "      <th>bill_rate</th>\n",
       "      <th>hours</th>\n",
       "    </tr>\n",
       "    <tr>\n",
       "      <th>resource</th>\n",
       "      <th></th>\n",
       "      <th></th>\n",
       "      <th></th>\n",
       "    </tr>\n",
       "  </thead>\n",
       "  <tbody>\n",
       "    <tr>\n",
       "      <th>Architect</th>\n",
       "      <td>17.624484</td>\n",
       "      <td>19.051220</td>\n",
       "      <td>8.675558</td>\n",
       "    </tr>\n",
       "    <tr>\n",
       "      <th>Consultant</th>\n",
       "      <td>31.793980</td>\n",
       "      <td>16.124832</td>\n",
       "      <td>27.594735</td>\n",
       "    </tr>\n",
       "    <tr>\n",
       "      <th>Program-Manager</th>\n",
       "      <td>25.808557</td>\n",
       "      <td>15.689916</td>\n",
       "      <td>23.495549</td>\n",
       "    </tr>\n",
       "  </tbody>\n",
       "</table>\n",
       "</div>"
      ],
      "text/plain": [
       "                 total_expenses  bill_rate      hours\n",
       "resource                                             \n",
       "Architect             17.624484  19.051220   8.675558\n",
       "Consultant            31.793980  16.124832  27.594735\n",
       "Program-Manager       25.808557  15.689916  23.495549"
      ]
     },
     "execution_count": 9,
     "metadata": {},
     "output_type": "execute_result"
    }
   ],
   "source": [
    "df.groupby('resource').std()"
   ]
  },
  {
   "cell_type": "code",
   "execution_count": 10,
   "metadata": {},
   "outputs": [],
   "source": [
    "level1 = pd.DataFrame({'total_expenses': np.around(np.random.normal(250.3, 17.62, 50),2), 'bill_rate': np.around(np.random.normal(170.9, 19.05, 50),2), 'hours': np.around(np.random.normal(73.2, 8.67, 50),2)})"
   ]
  },
  {
   "cell_type": "code",
   "execution_count": 11,
   "metadata": {},
   "outputs": [],
   "source": [
    "level2 = pd.DataFrame({'total_expenses': np.around(np.random.normal(329.4, 31.79, 50),2), 'bill_rate': np.around(np.random.normal(148.7, 16.12, 50),2), 'hours': np.around(np.random.normal(377.60, 27.59, 50),2)})"
   ]
  },
  {
   "cell_type": "code",
   "execution_count": 12,
   "metadata": {},
   "outputs": [],
   "source": [
    "level3 = pd.DataFrame({'total_expenses': np.around(np.random.normal(296.8, 25.80, 50),2), 'bill_rate': np.around(np.random.normal(138.5, 15.68, 50),2), 'hours': np.around(np.random.normal(213, 23.49, 50),2)})"
   ]
  },
  {
   "cell_type": "code",
   "execution_count": 13,
   "metadata": {},
   "outputs": [],
   "source": [
    "level1['sales_expense_ratio'] = (((level1['bill_rate']) * (level1['hours']))/ (level1['total_expenses']))"
   ]
  },
  {
   "cell_type": "code",
   "execution_count": 14,
   "metadata": {},
   "outputs": [],
   "source": [
    "level2['sales_expense_ratio'] = (((level2['bill_rate']) * (level2['hours']))/ (level2['total_expenses']))"
   ]
  },
  {
   "cell_type": "code",
   "execution_count": 15,
   "metadata": {},
   "outputs": [],
   "source": [
    "level3['sales_expense_ratio'] = (((level3['bill_rate']) * (level3['hours']))/ (level3['total_expenses']))"
   ]
  },
  {
   "cell_type": "code",
   "execution_count": 16,
   "metadata": {},
   "outputs": [],
   "source": [
    "level1['resource_type'] = 'Architect'\n",
    "level2['resource_type'] = 'Consultant'\n",
    "level3['resource_type'] = 'Program Manager'\n",
    "df = pd.concat([level1, level2, level3])\n",
    "df = df.reset_index(drop=True)"
   ]
  },
  {
   "cell_type": "code",
   "execution_count": 17,
   "metadata": {},
   "outputs": [
    {
     "data": {
      "text/html": [
       "<div>\n",
       "<style scoped>\n",
       "    .dataframe tbody tr th:only-of-type {\n",
       "        vertical-align: middle;\n",
       "    }\n",
       "\n",
       "    .dataframe tbody tr th {\n",
       "        vertical-align: top;\n",
       "    }\n",
       "\n",
       "    .dataframe thead th {\n",
       "        text-align: right;\n",
       "    }\n",
       "</style>\n",
       "<table border=\"1\" class=\"dataframe\">\n",
       "  <thead>\n",
       "    <tr style=\"text-align: right;\">\n",
       "      <th></th>\n",
       "      <th>bill_rate</th>\n",
       "      <th>hours</th>\n",
       "      <th>total_expenses</th>\n",
       "      <th>sales_expense_ratio</th>\n",
       "    </tr>\n",
       "    <tr>\n",
       "      <th>resource_type</th>\n",
       "      <th></th>\n",
       "      <th></th>\n",
       "      <th></th>\n",
       "      <th></th>\n",
       "    </tr>\n",
       "  </thead>\n",
       "  <tbody>\n",
       "    <tr>\n",
       "      <th>Architect</th>\n",
       "      <td>20.152301</td>\n",
       "      <td>7.487155</td>\n",
       "      <td>16.432592</td>\n",
       "      <td>9.531183</td>\n",
       "    </tr>\n",
       "    <tr>\n",
       "      <th>Consultant</th>\n",
       "      <td>16.591204</td>\n",
       "      <td>27.483191</td>\n",
       "      <td>38.598941</td>\n",
       "      <td>25.758336</td>\n",
       "    </tr>\n",
       "    <tr>\n",
       "      <th>Program Manager</th>\n",
       "      <td>14.747934</td>\n",
       "      <td>23.470883</td>\n",
       "      <td>26.932351</td>\n",
       "      <td>21.543306</td>\n",
       "    </tr>\n",
       "  </tbody>\n",
       "</table>\n",
       "</div>"
      ],
      "text/plain": [
       "                 bill_rate      hours  total_expenses  sales_expense_ratio\n",
       "resource_type                                                             \n",
       "Architect        20.152301   7.487155       16.432592             9.531183\n",
       "Consultant       16.591204  27.483191       38.598941            25.758336\n",
       "Program Manager  14.747934  23.470883       26.932351            21.543306"
      ]
     },
     "execution_count": 17,
     "metadata": {},
     "output_type": "execute_result"
    }
   ],
   "source": [
    "df.groupby('resource_type').std()"
   ]
  },
  {
   "cell_type": "code",
   "execution_count": 18,
   "metadata": {},
   "outputs": [
    {
     "data": {
      "text/html": [
       "<div>\n",
       "<style scoped>\n",
       "    .dataframe tbody tr th:only-of-type {\n",
       "        vertical-align: middle;\n",
       "    }\n",
       "\n",
       "    .dataframe tbody tr th {\n",
       "        vertical-align: top;\n",
       "    }\n",
       "\n",
       "    .dataframe thead th {\n",
       "        text-align: right;\n",
       "    }\n",
       "</style>\n",
       "<table border=\"1\" class=\"dataframe\">\n",
       "  <thead>\n",
       "    <tr style=\"text-align: right;\">\n",
       "      <th></th>\n",
       "      <th>bill_rate</th>\n",
       "      <th>hours</th>\n",
       "      <th>total_expenses</th>\n",
       "      <th>sales_expense_ratio</th>\n",
       "    </tr>\n",
       "    <tr>\n",
       "      <th>resource_type</th>\n",
       "      <th></th>\n",
       "      <th></th>\n",
       "      <th></th>\n",
       "      <th></th>\n",
       "    </tr>\n",
       "  </thead>\n",
       "  <tbody>\n",
       "    <tr>\n",
       "      <th>Architect</th>\n",
       "      <td>171.9304</td>\n",
       "      <td>73.7354</td>\n",
       "      <td>249.5332</td>\n",
       "      <td>51.189325</td>\n",
       "    </tr>\n",
       "    <tr>\n",
       "      <th>Consultant</th>\n",
       "      <td>149.7016</td>\n",
       "      <td>380.2706</td>\n",
       "      <td>334.2282</td>\n",
       "      <td>171.837640</td>\n",
       "    </tr>\n",
       "    <tr>\n",
       "      <th>Program Manager</th>\n",
       "      <td>137.5458</td>\n",
       "      <td>214.1294</td>\n",
       "      <td>293.5774</td>\n",
       "      <td>101.800556</td>\n",
       "    </tr>\n",
       "  </tbody>\n",
       "</table>\n",
       "</div>"
      ],
      "text/plain": [
       "                 bill_rate     hours  total_expenses  sales_expense_ratio\n",
       "resource_type                                                            \n",
       "Architect         171.9304   73.7354        249.5332            51.189325\n",
       "Consultant        149.7016  380.2706        334.2282           171.837640\n",
       "Program Manager   137.5458  214.1294        293.5774           101.800556"
      ]
     },
     "execution_count": 18,
     "metadata": {},
     "output_type": "execute_result"
    }
   ],
   "source": [
    "df.groupby('resource_type').mean()"
   ]
  },
  {
   "cell_type": "markdown",
   "metadata": {},
   "source": [
    "### Visualise"
   ]
  },
  {
   "cell_type": "code",
   "execution_count": 19,
   "metadata": {},
   "outputs": [
    {
     "data": {
      "text/plain": [
       "<seaborn.axisgrid.PairGrid at 0x209b7e00be0>"
      ]
     },
     "execution_count": 19,
     "metadata": {},
     "output_type": "execute_result"
    },
    {
     "data": {
      "image/png": "[encoded data removed]",
      "text/plain": [
       "<matplotlib.figure.Figure at 0x209b7e40518>"
      ]
     },
     "metadata": {},
     "output_type": "display_data"
    }
   ],
   "source": [
    "sns.pairplot(df, hue=\"resource_type\")"
   ]
  },
  {
   "cell_type": "markdown",
   "metadata": {},
   "source": [
    "**Seaborn**"
   ]
  },
  {
   "cell_type": "markdown",
   "metadata": {},
   "source": [
    "Seaborn is a plotting library similiar to the matplotlib plotting package. The difference between seaborna nd matplotlib is that seaborn makes a lot of assumptions about how you would like it to visualize your data set. Seaborn is used in conjuction with pandas. \n",
    "\n",
    "In the above plots, I used pairplot to graphically demonstrate the relationship between the variables of my simualation. Pairplot takes the dataframe from pandas and it produces a grid of 4 x 4 plots. The first column of columns plots total expenses against each of the other variables, the second column of colums plots bill rate against each of the other variables, the third column of columns plots hours against each of the other variables and the fourth column of columns plots operating ratio against each of the other variables. And likewise with the rows.\n",
    "\n",
    "The idea of these 4 x 4 grid plots is to compare all the numeric values within the data set against each other. It ignores the classification variable resource type as this is not a numeric value. A legend has been provided by pairplot to show which data points relate to each of the resouce types.\n",
    "\n",
    "\n",
    "**Bill rate histogram**\n",
    "\n",
    "A histogram is a plot used for plotting one dimensional data. The bill rate histogram is plotting the bill rate values on the x axis and provides a graphical representation of their distribution, a normal distribution.  The histogram uses bins to show the frequency of data in successive numerical intervals of equal size. [Ref: Histogram](https://searchsoftwarequality.techtarget.com/definition/histogram) The areas in which the bins of the histogram peak shows the mean of the data. The red (architect) bill rate appear to peak around the mean of 170.9. The architect bill rtae has a standard deviatio of 19.05. This is the largest standard deviation of the three resource types. Because of this, the red data on the histogram has a flatter shape as we can expect larger swings in the bill rate charged for architect hours. The blue (consultant) bill rate appear to peak around the mean of 148.7. The consulatnt bill rate has a standard deviation of 16.12. This standard deviation is in the mid range of the three resource types. Because of this, the shape of the blue data on the histogram is in the mid range and we can expect swings in the mid range for the bill rate charged for consultant hours. The purple (purple) bill rate appear to peak around the mean of 138.5. The program manager bill rate has a standard deviation of 15.68. This is the lowest standard deviation of the three resource types. Because of this, the purple data on the histogram has the highest peak as we can expect lower swings in the bill rate charged for program manager hours.\n",
    "\n",
    "**Bill rate and hours scatter plot** \n",
    "\n",
    "The bill rate and hours plot has been plotted on a scatter plot. A scatter plot is a graphical representation of the values of two variables which are plotted on the x and y axix. The resulting data points reveal any correlation present. The bill rate values on the x axis range from 88 up to about 225 and the hours values on the y axis range from around 50 up to around 440. Every dot on the plot represents a row of the dataframe. For each point on the dataframe, you can find it's bill rate value on the x axis and it's corresponding hours value on the y axis. The data point is placed on the plot where the two values meet. The red (architect) data points appear to be in their own group. There apear to have a bill rate ranging from 125 to 250 and there apprears to be deliveries fewer than 100 hours for architects. The purple (program manager) data points also appear to be in their own group. Program managers have a bill rate of around 100 to 175 and there appears to be deliveries of between 150 and 250 hours for program managers. The blue (consultant) data points also appear to be in their own group. They have a bill rate of around 110 to 180 and appear to have deliveries of between 300 and 400 hours. The architect resource type is the most knowledgable of the three resource types. They are generally deployed to offer mentoring to consultants and do not perform the day to day operations of the project and therfore hours deliveries for this resouce type would be quite low. Program managers take care of the day to day management of the project, they are not as qualified as the consultants and architects so a lower bill rate would be charged for their hours. Consultants perform most of the day to day operations of the project so as expected their hours deliveries are the highest of the group. As they are more qualified than the program mangers but less qualified than the architects their bill rates are in the middle range of the group. \n",
    "\n",
    "\n",
    "**Bill rate and total expenses scatter plot** \n",
    "\n",
    "The bill rate and total expenses plot has been plotted on a scatter plot. A scatter plot is a graphical representation of the values of two variables which are plotted on the x and y axix. The resulting data points reveal any correlation present. The bill rate values on the x axis range from 88 up to about 225 and the total expenses values on the y axis range from around 211 up to around 416. Every dot on the plot represents a row of the dataframe. For each point on the dataframe, you can find it's bill rate value on the x axis and it's corresponding total expenses value on the y axis. The data point is placed on the plot where the two values meet. Although the red (architect) data points appear to be in their own group, this group is not as definitive as other plots. There does appear to be some crossover with other resource types. They apear to have a bill rate ranging from 125 to 250 and they appear to have total expenses ranging from 210 to 280 . The purple (program manager) data points again appear to be in their own group but the grooup is not as definite. Program managers have a bill rate of around 100 to 175 and total expenses of 225 to 350. There apears to be quite a lot of variation in the blue (consultant) data points and it would be difficult to assign these data points into one group. They have a bill rate of around 110 to 180 and appear to have total expenses 250 to 425. The architect resource type is the most knowledgable of the three resource types. They are generally deployed to offer mentoring to consultants and do not perform the day to day operations of the project and therfore hours deliveries for this resouce type would be quite low and resulting total expenses would be quite low. Program managers take care of the day to day management of the project, they are not as qualified as the consultants and architects so a lower bill rate would be charged for their hours. Their hours deliveries would be in the mid range so their resulting total expenses would be in the mid range. Consultants perform most of the day to day operations of the project so as expected their hours deliveries are the highest of the group and resulting total expenses are the highest. As they are more qualified than the program mangers but less qualified than the architects their bill rates are in the middle range of the group. \n",
    "\n",
    "**Bill rate and sales expense ratio scatter plot** \n",
    "\n",
    "The bill rate and sales expense ratio plot has been plotted on a scatter plot. A scatter plot is a graphical representation of the values of two variables which are plotted on the x and y axix. The resulting data points reveal any correlation present. The bill rate values on the x axis range from 88 up to about 225 and the sales expense ratio values on the y axis range from around 37 up to around 255. Every dot on the plot represents a row of the dataframe. For each point on the dataframe, you can find it's bill rate value on the x axis and it's corresponding total expenses value on the y axis. The data point is placed on the plot where the two values meet. The red (architect) data points appear to be in their own group. They apear to have a bill rate ranging from 125 to 250 and they appear to have sales expense ratio ranging from 37 to 75. The purple (program manager) data points again appear to be in their own group. Program managers have a bill rate of around 100 to 175 and a sales expense ratio of 60 up to 150. The blue (consultant) data points appear to be in their own group. They have a bill rate of around 110 to 180 and appear to have a sales expense ratio of 100 to 250. The architect resource type is the most knowledgable of the three resource types. They are generally deployed to offer mentoring to consultants and do not perform the day to day operations of the project and therfore hours deliveries for this resouce type would be quite low and resulting sales expense would be quite low. Program managers take care of the day to day management of the project, they are not as qualified as the consultants and architects so a lower bill rate would be charged for their hours. Their hours deliveries would be in the mid range so their resulting sales expense ratio would be in the mid range. Consultants perform most of the day to day operations of the project so as expected their hours deliveries are the highest of the group and resulting sales expense ratio are the highest. As they are more qualified than the program mangers but less qualified than the architects their bill rates are in the middle range of the group. \n",
    "\n",
    "\n",
    "**Hours and bill rate scatter plot** \n",
    "\n",
    "The bill rate and hours plot has been plotted on a scatter plot. A scatter plot is a graphical representation of the values of two variables which are plotted on the x and y axis. The resulting data points reveal any correlation present. The hours values on the x axis range from around 50 up to around 440 and bill rate values on the y axis range from 88 up to about 225. Every dot on the plot represents a row of the dataframe. For each point on the dataframe, you can find it's hours value on the x axis and it's corresponding bill rate value on the y axis. The data point is placed on the plot where the two values meet. The red (architect) data points appear to be in their own group. There apear to have a bill rate ranging from 125 to 250 and there apprears to be deliveries fewer than 100 hours for architects. The purple (program manager) data points also appear to be in their own group. Program managers have a bill rate of around 100 to 175 and there appears to be deliveries of between 150 and 250 hours for program managers. The blue (consultant) data points also appear to be in their own group. They have a bill rate of around 110 to 180 and appear to have deliveries of between 300 and 400 hours. The architect resource type is the most knowledgable of the three resource types. They are generally deployed to offer mentoring to consultants and do not perform the day to day operations of the project and therfore hours deliveries for this resouce type would be quite low. Program managers take care of the day to day management of the project, they are not as qualified as the consultants and architects so a lower bill rate would be charged for their hours. Consultants perform most of the day to day operations of the project so as expected their hours deliveries are the highest of the group. As they are more qualified than the program mangers but less qualified than the architects their bill rates are in the middle range of the group. \n",
    "\n",
    "**Hours histogram**\n",
    "\n",
    "A histogram is a plot used for plotting one dimensional data. The hours histogram is plotting the hours values on the x axis and provides a graphical representation of their distribution, a normal distribution.  The histogram uses bins to show the frequency of data in successive numerical intervals of equal size. [Ref: Histogram](https://searchsoftwarequality.techtarget.com/definition/histogram) The areas in which the bins of the histogram peak shows the mean of the data. The red (architect) hours appear to peak around the mean of 73. The architect hours have a standard deviation of 8.67. This is the lowest standard deviation of the three resource types. Because of this, the red data on the histogram has the highest peak as we can expect the lowest swings in the hours delivered for architect hours. The purple (purple) hours appear to peak around the mean of 213. The program manager bill rate has a standard deviation of 23.49. This hours standard deviation is in the mid range of the three resource types so we can expect swings in hours in the mid range. The blue (consultant) hours appear to peak around the mean of 277. The consultant bill rate has a standard deviation of 27.59.  This is the largest standard deviation of the three resource types. Because of this, the red data on the histogram has a flatter shape as we can expect larger swings in the hours delivered for architect hours. \n",
    "\n",
    "**Hours and total expenses scatter plot** \n",
    "\n",
    "The bill rate and hours plot has been plotted on a scatter plot. A scatter plot is a graphical representation of the values of two variables which are plotted on the x and y axis. The resulting data points reveal any correlation present. The hours values on the x axis range from around 50 up to around 440 and total expenses values on the y axis range from 210 up to about 400. Every dot on the plot represents a row of the dataframe. For each point on the dataframe, you can find it's hours value on the x axis and it's corresponding total expenses value on the y axis. The data point is placed on the plot where the two values meet. The red (architect) data points appear to be in their own group. They apear to have a hours deliveries ranging from 125 to 250 and total expenses appear to range from 210 to 300. The purple (program manager) data points appear to have deliveries of between 150 and 250 hours and have total expenses of 215 to 360. The blue (consultant) data points also appear to be in their own group. They have deliveries of between 300 and 400 hours and total expenses of 240 to 400. The architect resource type is the most knowledgable of the three resource types. They are generally deployed to offer mentoring to consultants and do not perform the day to day operations of the project and therfore hours deliveries for this resouce type would be quite low and resulting total total expenses will be quite low. Program managers take care of the day to day management of the project, they are not required to deliver as many hours as consultants so there hours and resulting total expenses would be in the mid range. Consultants perform most of the day to day operations of the project so as expected their hours deliveries are the highest of the group. Their hours deliveries and resulting total expenses are the highest of the group.\n",
    "\n",
    "**Hours and sales expense ratio scatter plot** \n",
    "\n",
    "The hours and sales expense ratio plot has been plotted on a scatter plot. A scatter plot is a graphical representation of the values of two variables which are plotted on the x and y axix. The resulting data points reveal any correlation present. The hours values on the x axis range from around 50 up to around 440 and the sales expense ratio values on the y axis range from around 211 up to around 416. Every dot on the plot represents a row of the dataframe. For each point on the dataframe, you can find it's hours value on the x axis and it's corresponding sales expense value on the y axis. The data point is placed on the plot where the two values meet. The red (architect) data points appear to be in their own group. TTey apear to have a hours deliveries ranging from 125 to 250 and they appear to have sales expense ratio ranging from 37 to 75. The purple (program manager) data points are also in their own group. The purple (program manager) data points appear to have deliveries of between 150 and 250 hours and a sales expense ratio of 60 up to 150. The blue (consultant) data points are seem to be in their own group. They have deliveries of between 300 and 400 hours and appear to have a sales expense ratio of 100 to 250. The architect resource type is the most knowledgable of the three resource types. They are generally deployed to offer mentoring to consultants and do not perform the day to day operations of the project and therfore hours deliveries for this resouce type would be quite low and resulting total expenses and sales expense ratio would be quite low. Program managers take care of the day to day management of the project, they are not reuired to deliver as many hours as consulatnts so their hours and resulting total expenses and sales expenses ratio would be in the mid range. Consultants perform most of the day to day operations of the project so as expected their hours deliveries are the highest of the group and resulting total expenses and sales expenses ratio are the highest of the three groups. \n",
    "\n",
    "**Total expenses and bill rate scatter plot** \n",
    "\n",
    "The bill rate and total expenses plot has been plotted on a scatter plot. A scatter plot is a graphical representation of the values of two variables which are plotted on the x and y axix. The resulting data points reveal any correlation present. The  total expenses values on the x axis range from around 211 up to around 416 and the bill rate values on the y axis range from 88 up to about 225. Every dot on the plot represents a row of the dataframe. For each point on the dataframe, you can find it's bill rate value on the x axis and it's corresponding total expenses value on the y axis. The data point is placed on the plot where the two values meet. Although the red (architect) data points appear to be in their own group, this group is not as definitive as other plots. There does appear to be some crossover with other resource types. They appear to have total expenses ranging from 210 to 300 and apear to have a bill rate ranging from 125 to 225. The purple (program manager) data points again appear to be in their own group but the group is not as definite as other plots. Program managers have total expenses of 225 to 360 and a bill rate of around 105 to 185. There apears to be quite a lot of variation in the blue (consultant) data points and it would be difficult to assign these data points into one group. They appear to have total expenses 250 to 425 a bill rate of around 110 to 180 and appear to have total expenses 250 to 400. The architect resource type is the most knowledgable of the three resource types. They are generally deployed to offer mentoring to consultants and do not perform the day to day operations of the project and therfore hours deliveries for this resouce type would be quite low and resulting total expenses would be quite low. Program managers take care of the day to day management of the project, they are not as qualified as the consultants and architects so a lower bill rate would be charged for their hours. Their hours deliveries would be in the mid range so their resulting total expenses would be in the mid range. Consultants perform most of the day to day operations of the project so as expected their hours deliveries are the highest of the group and resulting total expenses are the highest. As they are more qualified than the program mangers but less qualified than the architects their bill rates are in the middle range of the group. \n",
    "\n",
    "**Total expenses and hours scatter plot** \n",
    "\n",
    "The hours and total expenses plot has been plotted on a scatter plot. A scatter plot is a graphical representation of the values of two variables which are plotted on the x and y axis. The resulting data points reveal any correlation present. The total expenses values on the x axis range from 210 up to about 400 and the hours values on the y axis range from around 50 up to around 440. Every dot on the plot represents a row of the dataframe. For each point on the dataframe, you can find it's total expenses values on the x axis and it's corresponding hours values on the y axis. The data point is placed on the plot where the two values meet. The red (architect) data points appear to be in their own group. Total expenses appear to range from 210 to 300 and hours deliveries range from 50 to 100. The purple (program manager) data points are also in their own group. Total expenses of 215 to 360 and hours deliveries of between 180 and 250. The blue (consultant) data points also appear to be in their own group. Total expenses range 240 to 400 and hours deliveries of between 300 and 450. The architect resource type is the most knowledgable of the three resource types. They are generally deployed to offer mentoring to consultants and do not perform the day to day operations of the project and therfore hours deliveries for this resouce type would be quite low and resulting total total expenses will be quite low. Program managers take care of the day to day management of the project, they are not required to deliver as many hours as consultants so there hours and resulting total expenses would be in the mid range. Consultants perform most of the day to day operations of the project so as expected their hours deliveries are the highest of the group. Their hours deliveries and resulting total expenses are the highest of the group.\n",
    "\n",
    "**Total expenses histogram**\n",
    "\n",
    "A histogram is a plot used for plotting one dimensional data. The hours histogram is plotting the hours values on the x axis and provides a graphical representation of their distribution, a normal distribution.  The histogram uses bins to show the frequency of data in successive numerical intervals of equal size. [Ref: Histogram](https://searchsoftwarequality.techtarget.com/definition/histogram) The areas in which the bins of the histogram peak shows the mean of the data. The red (architect) hours appear to peak around the mean of 250.3. The architect hours have a standard deviation of 17.62. This is the lowest standard deviation of the three resource types. Because of this, the red data on the histogram has the highest peak as we can expect the lowest swings for total expenses for architect hours. The purple (purple) hours appear to peak around the mean of 296.8. The program manager bill rate has a standard deviation of 25.80. This hours standard deviation is in the mid range of the three resource types so we can expect swings in total expenses in the mid range. The blue (consultant) hours appear to peak around the mean of 329.40. The consultant bill rate has a standard deviation of 31.79. This is the largest standard deviation of the three resource types. Because of this, the blue data on the histogram has a flattest shape as we can expect larger swings in the hours delivered for consultant hours. I would recommend that management would review total expenses and implement some measures to try and standardise total expenses across the three groups. The standard deviation for total expenses is quite large across all of the resource types. This could lead to variation in our key performance ratio - sales to expense ratio.\n",
    "\n",
    "\n",
    "**Total expenses and sales expense ratio scatter plot** \n",
    "\n",
    "The total expenses and sales expenses plot has been plotted on a scatter plot. A scatter plot is a graphical representation of the values of two variables which are plotted on the x and y axis. The resulting data points reveal any correlation present. The total expenses values on the x axis range from 210 up to about 400 and the sales expenses values on the y axis range from around \n",
    "25 up to around 400. Every dot on the plot represents a row of the dataframe. For each point on the dataframe, you can find it's total expenses values on the x axis and it's corresponding sales expense ratio values on the y axis. The data point is placed on the plot where the two values meet. The red (architect) data points appear to be in their own group. Total expenses appear to range from 210 to 300 and the sales expenses ratio values range from 25 to 75. The purple (program manager) data points are also in their own group. Total expenses of 215 to 360 and the sales expense ratio values range from 60 to 150. The blue (consultant) data points also appear to be in their own group. Total expenses range 240 to 400 and sales expense ratio values range from 100 to 250. The architect resource type is the most knowledgable of the three resource types. They are generally deployed to offer mentoring to consultants and do not perform the day to day operations of the project and therfore hours deliveries for this resouce type would be quite low. The resulting total expenses and sales expense ratio will be quite low. Program managers take care of the day to day management of the project, they are not required to deliver as many hours as consultants. The resulting total expenses and slaes expense ratio would be in the mid range. Consultants perform most of the day to day operations of the project so as expected their hours deliveries are the highest of the group. Their hours deliveries and resulting total expenses  and sales expense ratio are the highest of the group.\n",
    "\n",
    "**Sales expense ratio and bill rate scatter plot** \n",
    "\n",
    "The sales expenses ratio and hours plot has been plotted on a scatter plot. A scatter plot is a graphical representation of the values of two variables which are plotted on the x and y axis. The resulting data points reveal any correlation present. The sales expense ratio values on the x axis range from around 25 up to around 250 and bill rate values range form 50 up to 225. Every dot on the plot represents a row of the dataframe. For each point on the dataframe, you can find it's sales expenses ratio values on the x axis and it's corresponding bill rate values on the y axis. The data point is placed on the plot where the two values meet. The red (architect) data points appear to be in their own group. Sales expense ratio values appear to range from 25 to 75 and bill rate values range from 125 to 225. The purple (program manager) data points are also in their own group. Sales expense ratio ratio values range from 60 to 150 and bill rate values range from 110 to 185. The blue (consultant) data points also appear to be in their own group. Sales expense ratio values range from 100 to 250 and bill rate values range form 50 to 180. The architect resource type is the most knowledgable of the three resource types. They are generally deployed to offer mentoring to consultants and do not perform the day to day operations of the project and even though their bill rate is generally higher than the other two groups, the hours deliveries for this resouce type would be quite low. Therefore, the  resulting sales expense ratio will also be quite low. Program managers take care of the day to day management of the project, they are not required to deliver as many hours as consultants and their bill rate and total expenses would be in the mid range. The resulting sales expense ratio would be also in the mid range. Consultants perform most of the day to day operations of the project so as expected their hours deliveries are the highest of the group. Their hours deliveries and total expenses and resulting sales expense ratio are the highest of the group.\n",
    "\n",
    "**Sales expense ratio and hours scatter plot** \n",
    "\n",
    "The sales expenses ratio and hours plot has been plotted on a scatter plot. A scatter plot is a graphical representation of the values of two variables which are plotted on the x and y axis. The resulting data points reveal any correlation present. The sales expense ratio values on the x axis range from around 25 up to around 250 and hours values range form 50 up to 450. Every dot on the plot represents a row of the dataframe. For each point on the dataframe, you can find it's sales expenses ratio values on the x axis and it's corresponding hours values on the y axis. The data point is placed on the plot where the two values meet. The red (architect) data points appear to be in their own group. Sales expense ratio values appear to range from 37 to 75 and hours values range from 50 to 100. The purple (program manager) data points are also in their own group. Sales expense ratio values range from 60 to 150 and hours values range from 150 to 250. The blue (consultant) data points also appear to be in their own group. Sales expense ratio values range from 100 to 250 and hours values range from 300 to 450. The architect resource type is the most knowledgable of the three resource types. They are generally deployed to offer mentoring to consultants and do not perform the day to day operations of the project and therfore hours deliveries for this resouce type would be quite low. The resulting sales expense ratio will also be quite low. Program managers take care of the day to day management of the project, they are not required to deliver as many hours as consultants. The resulting sales expense ratio would be also in the mid range. Consultants perform most of the day to day operations of the project so as expected their hours deliveries are the highest of the group. Their hours deliveries and resulting sales expense ratio are the highest of the group.\n",
    "\n",
    "**Sales expense ratio and total expenses scatter plot** \n",
    "\n",
    "The sales expenses ratio and total expenses plot has been plotted on a scatter plot. A scatter plot is a graphical representation of the values of two variables which are plotted on the x and y axis. The resulting data points reveal any correlation present. The sales expenses values on the x axis range from around 25 up to around 400 and total expenses values on the y axis range from 210 up to about 400. Every dot on the plot represents a row of the dataframe. For each point on the dataframe, you can find it's sales expenses ratio value on the x axis and it's corresponding total expenses value on the y axis. The data point is placed on the plot where the two values meet. The red (architect) data points appear to be in their own group. Sales expenses ratio values range from 25 to 75 and total expenses appear to range from 210 to 300. The purple (program manager) data points are also in their own group. Sales expense ratio values range from 60 to 150 and total expenses ramge from 215 to 360. The blue (consultant) data points also appear to be in their own group. Sales expense ratio values range from 90 to 290. ands total expenses range 240 to 400. The architect resource type is the most knowledgable of the three resource types. They are generally deployed to offer mentoring to consultants and do not perform the day to day operations of the project and therfore hours deliveries for this resouce type would be quite low. The resulting total expenses and sales expense ratio will be quite low. Program managers take care of the day to day management of the project, they are not required to deliver as many hours as consultants. The resulting total expenses and sales expense ratio would be in the mid range. Consultants perform most of the day to day operations of the project so as expected their hours deliveries are the highest of the group. Their hours deliveries and resulting total expenses and sales expense ratio are the highest of the group.\n",
    "\n",
    "\n",
    "**Sales expense ratio histogram**\n",
    "\n",
    "A histogram is a plot used for plotting one dimensional data. The sales expense ratio histogram is plotting the sales expense ratio values on the x axis and provides a graphical representation of their distribution, a normal distribution.  The histogram uses bins to show the frequency of data in successive numerical intervals of equal size. [Ref: Histogram](https://searchsoftwarequality.techtarget.com/definition/histogram) The areas in which the bins of the histogram peak shows the mean of the data. The red (architect) sales expense ratio appears to peak around the mean of 49.9. The architect bill rate has a standard deviation of 19.05. This is the largest standard deviation of the three resource types. Because of this, the red data on the histogram has a flatter shape as we can expect larger swings in the bill rate charged for architect hours. The blue (consultant) bill rate appear to peak around the mean of 148.7. The consulatnt bill rate has a standard deviation of 16.12. This standard deviation is in the mid range of the three resource types. Because of this, the shape of the blue data on the histogram is in the mid range and we can expect swings in the mid range for the bill rate charged for consultant hours. The purple (purple) bill rate appear to peak around the mean of 138.5. The program manager bill rate has a standard deviation of 15.68. This is the lowest standard deviation of the three resource types. Because of this, the purple data on the histogram has the highest peak as we can expect lower swings in the bill rate charged for program manager hours."
   ]
  },
  {
   "cell_type": "markdown",
   "metadata": {},
   "source": [
    "### 4. Detail your research and implement the simulation in a Jupyter Notebook - the data it self can simply be displayed in an ouput cell within the notebook"
   ]
  },
  {
   "cell_type": "markdown",
   "metadata": {},
   "source": [
    "![scikit](https://raw.githubusercontent.com/fionanealon/KPI/master/img/scikit-learn-logo.jpeg)"
   ]
  },
  {
   "cell_type": "markdown",
   "metadata": {},
   "source": [
    "## KNN \n",
    "\n"
   ]
  },
  {
   "cell_type": "markdown",
   "metadata": {},
   "source": [
    "Now that the data set has been simulated, we will now look at building a algorithm called k nearest neighbors that classifies the four variables of my data set. The algorithm will class the bill rate, hours, total expenses variables based on their numeric values. It will predict the class of their resource types - architect, consultant and program manager. It is key that some measurements are availble the class for those measurements are available. For example: there are fifty rows of measurements for each of the architect, consultant and program manager classes available on the consulting services data set. These measurements include bill rate, hours, total expenses and sales expenses ratio. Because these measurements of each class are available ot me, this is called a supervised learning problem. The goal of the algorithm is then to predict the class of resource type for measurements that have not been provided to it by the data set."
   ]
  },
  {
   "cell_type": "markdown",
   "metadata": {},
   "source": [
    "### Data"
   ]
  },
  {
   "cell_type": "markdown",
   "metadata": {},
   "source": [
    "The k nearest algorithm will be generated using the dataframe I have just simulated for the consulting services engagement. See data set in below output cell."
   ]
  },
  {
   "cell_type": "code",
   "execution_count": 20,
   "metadata": {},
   "outputs": [
    {
     "data": {
      "text/html": [
       "<div>\n",
       "<style scoped>\n",
       "    .dataframe tbody tr th:only-of-type {\n",
       "        vertical-align: middle;\n",
       "    }\n",
       "\n",
       "    .dataframe tbody tr th {\n",
       "        vertical-align: top;\n",
       "    }\n",
       "\n",
       "    .dataframe thead th {\n",
       "        text-align: right;\n",
       "    }\n",
       "</style>\n",
       "<table border=\"1\" class=\"dataframe\">\n",
       "  <thead>\n",
       "    <tr style=\"text-align: right;\">\n",
       "      <th></th>\n",
       "      <th>bill_rate</th>\n",
       "      <th>hours</th>\n",
       "      <th>total_expenses</th>\n",
       "      <th>sales_expense_ratio</th>\n",
       "      <th>resource_type</th>\n",
       "    </tr>\n",
       "  </thead>\n",
       "  <tbody>\n",
       "    <tr>\n",
       "      <th>0</th>\n",
       "      <td>172.91</td>\n",
       "      <td>64.78</td>\n",
       "      <td>259.23</td>\n",
       "      <td>43.209157</td>\n",
       "      <td>Architect</td>\n",
       "    </tr>\n",
       "    <tr>\n",
       "      <th>1</th>\n",
       "      <td>175.42</td>\n",
       "      <td>69.03</td>\n",
       "      <td>247.15</td>\n",
       "      <td>48.995519</td>\n",
       "      <td>Architect</td>\n",
       "    </tr>\n",
       "    <tr>\n",
       "      <th>2</th>\n",
       "      <td>137.12</td>\n",
       "      <td>64.43</td>\n",
       "      <td>256.55</td>\n",
       "      <td>34.436334</td>\n",
       "      <td>Architect</td>\n",
       "    </tr>\n",
       "    <tr>\n",
       "      <th>3</th>\n",
       "      <td>181.42</td>\n",
       "      <td>77.28</td>\n",
       "      <td>255.64</td>\n",
       "      <td>54.843286</td>\n",
       "      <td>Architect</td>\n",
       "    </tr>\n",
       "    <tr>\n",
       "      <th>4</th>\n",
       "      <td>142.09</td>\n",
       "      <td>77.04</td>\n",
       "      <td>233.10</td>\n",
       "      <td>46.961019</td>\n",
       "      <td>Architect</td>\n",
       "    </tr>\n",
       "    <tr>\n",
       "      <th>5</th>\n",
       "      <td>149.86</td>\n",
       "      <td>63.66</td>\n",
       "      <td>278.56</td>\n",
       "      <td>34.247873</td>\n",
       "      <td>Architect</td>\n",
       "    </tr>\n",
       "    <tr>\n",
       "      <th>6</th>\n",
       "      <td>197.25</td>\n",
       "      <td>72.05</td>\n",
       "      <td>224.61</td>\n",
       "      <td>63.273507</td>\n",
       "      <td>Architect</td>\n",
       "    </tr>\n",
       "    <tr>\n",
       "      <th>7</th>\n",
       "      <td>179.07</td>\n",
       "      <td>71.26</td>\n",
       "      <td>251.33</td>\n",
       "      <td>50.772006</td>\n",
       "      <td>Architect</td>\n",
       "    </tr>\n",
       "    <tr>\n",
       "      <th>8</th>\n",
       "      <td>172.42</td>\n",
       "      <td>66.82</td>\n",
       "      <td>239.30</td>\n",
       "      <td>48.145025</td>\n",
       "      <td>Architect</td>\n",
       "    </tr>\n",
       "    <tr>\n",
       "      <th>9</th>\n",
       "      <td>159.58</td>\n",
       "      <td>75.98</td>\n",
       "      <td>262.56</td>\n",
       "      <td>46.179496</td>\n",
       "      <td>Architect</td>\n",
       "    </tr>\n",
       "    <tr>\n",
       "      <th>10</th>\n",
       "      <td>177.97</td>\n",
       "      <td>84.69</td>\n",
       "      <td>244.73</td>\n",
       "      <td>61.587379</td>\n",
       "      <td>Architect</td>\n",
       "    </tr>\n",
       "    <tr>\n",
       "      <th>11</th>\n",
       "      <td>167.42</td>\n",
       "      <td>67.42</td>\n",
       "      <td>274.76</td>\n",
       "      <td>41.081149</td>\n",
       "      <td>Architect</td>\n",
       "    </tr>\n",
       "    <tr>\n",
       "      <th>12</th>\n",
       "      <td>189.58</td>\n",
       "      <td>74.79</td>\n",
       "      <td>232.69</td>\n",
       "      <td>60.933810</td>\n",
       "      <td>Architect</td>\n",
       "    </tr>\n",
       "    <tr>\n",
       "      <th>13</th>\n",
       "      <td>172.05</td>\n",
       "      <td>65.08</td>\n",
       "      <td>247.02</td>\n",
       "      <td>45.328370</td>\n",
       "      <td>Architect</td>\n",
       "    </tr>\n",
       "    <tr>\n",
       "      <th>14</th>\n",
       "      <td>208.72</td>\n",
       "      <td>75.21</td>\n",
       "      <td>251.32</td>\n",
       "      <td>62.461528</td>\n",
       "      <td>Architect</td>\n",
       "    </tr>\n",
       "    <tr>\n",
       "      <th>15</th>\n",
       "      <td>183.71</td>\n",
       "      <td>75.04</td>\n",
       "      <td>246.72</td>\n",
       "      <td>55.875480</td>\n",
       "      <td>Architect</td>\n",
       "    </tr>\n",
       "    <tr>\n",
       "      <th>16</th>\n",
       "      <td>162.72</td>\n",
       "      <td>69.52</td>\n",
       "      <td>247.16</td>\n",
       "      <td>45.769115</td>\n",
       "      <td>Architect</td>\n",
       "    </tr>\n",
       "    <tr>\n",
       "      <th>17</th>\n",
       "      <td>138.49</td>\n",
       "      <td>76.77</td>\n",
       "      <td>245.69</td>\n",
       "      <td>43.273545</td>\n",
       "      <td>Architect</td>\n",
       "    </tr>\n",
       "    <tr>\n",
       "      <th>18</th>\n",
       "      <td>175.02</td>\n",
       "      <td>71.68</td>\n",
       "      <td>243.98</td>\n",
       "      <td>51.419926</td>\n",
       "      <td>Architect</td>\n",
       "    </tr>\n",
       "    <tr>\n",
       "      <th>19</th>\n",
       "      <td>167.93</td>\n",
       "      <td>87.63</td>\n",
       "      <td>249.55</td>\n",
       "      <td>58.968968</td>\n",
       "      <td>Architect</td>\n",
       "    </tr>\n",
       "    <tr>\n",
       "      <th>20</th>\n",
       "      <td>203.14</td>\n",
       "      <td>77.94</td>\n",
       "      <td>261.50</td>\n",
       "      <td>60.545819</td>\n",
       "      <td>Architect</td>\n",
       "    </tr>\n",
       "    <tr>\n",
       "      <th>21</th>\n",
       "      <td>194.46</td>\n",
       "      <td>73.68</td>\n",
       "      <td>225.22</td>\n",
       "      <td>63.616965</td>\n",
       "      <td>Architect</td>\n",
       "    </tr>\n",
       "    <tr>\n",
       "      <th>22</th>\n",
       "      <td>154.50</td>\n",
       "      <td>73.47</td>\n",
       "      <td>277.94</td>\n",
       "      <td>40.840163</td>\n",
       "      <td>Architect</td>\n",
       "    </tr>\n",
       "    <tr>\n",
       "      <th>23</th>\n",
       "      <td>162.58</td>\n",
       "      <td>70.26</td>\n",
       "      <td>235.26</td>\n",
       "      <td>48.554241</td>\n",
       "      <td>Architect</td>\n",
       "    </tr>\n",
       "    <tr>\n",
       "      <th>24</th>\n",
       "      <td>191.16</td>\n",
       "      <td>75.15</td>\n",
       "      <td>248.41</td>\n",
       "      <td>57.830498</td>\n",
       "      <td>Architect</td>\n",
       "    </tr>\n",
       "    <tr>\n",
       "      <th>25</th>\n",
       "      <td>148.42</td>\n",
       "      <td>70.04</td>\n",
       "      <td>257.25</td>\n",
       "      <td>40.409472</td>\n",
       "      <td>Architect</td>\n",
       "    </tr>\n",
       "    <tr>\n",
       "      <th>26</th>\n",
       "      <td>175.44</td>\n",
       "      <td>61.85</td>\n",
       "      <td>235.68</td>\n",
       "      <td>46.041090</td>\n",
       "      <td>Architect</td>\n",
       "    </tr>\n",
       "    <tr>\n",
       "      <th>27</th>\n",
       "      <td>187.17</td>\n",
       "      <td>74.05</td>\n",
       "      <td>240.91</td>\n",
       "      <td>57.531603</td>\n",
       "      <td>Architect</td>\n",
       "    </tr>\n",
       "    <tr>\n",
       "      <th>28</th>\n",
       "      <td>181.26</td>\n",
       "      <td>53.27</td>\n",
       "      <td>282.43</td>\n",
       "      <td>34.188012</td>\n",
       "      <td>Architect</td>\n",
       "    </tr>\n",
       "    <tr>\n",
       "      <th>29</th>\n",
       "      <td>175.52</td>\n",
       "      <td>57.31</td>\n",
       "      <td>267.89</td>\n",
       "      <td>37.549185</td>\n",
       "      <td>Architect</td>\n",
       "    </tr>\n",
       "    <tr>\n",
       "      <th>...</th>\n",
       "      <td>...</td>\n",
       "      <td>...</td>\n",
       "      <td>...</td>\n",
       "      <td>...</td>\n",
       "      <td>...</td>\n",
       "    </tr>\n",
       "    <tr>\n",
       "      <th>120</th>\n",
       "      <td>140.68</td>\n",
       "      <td>224.50</td>\n",
       "      <td>308.12</td>\n",
       "      <td>102.501168</td>\n",
       "      <td>Program Manager</td>\n",
       "    </tr>\n",
       "    <tr>\n",
       "      <th>121</th>\n",
       "      <td>112.68</td>\n",
       "      <td>202.01</td>\n",
       "      <td>312.22</td>\n",
       "      <td>72.905281</td>\n",
       "      <td>Program Manager</td>\n",
       "    </tr>\n",
       "    <tr>\n",
       "      <th>122</th>\n",
       "      <td>125.58</td>\n",
       "      <td>194.07</td>\n",
       "      <td>312.97</td>\n",
       "      <td>77.871076</td>\n",
       "      <td>Program Manager</td>\n",
       "    </tr>\n",
       "    <tr>\n",
       "      <th>123</th>\n",
       "      <td>129.10</td>\n",
       "      <td>230.09</td>\n",
       "      <td>256.26</td>\n",
       "      <td>115.915941</td>\n",
       "      <td>Program Manager</td>\n",
       "    </tr>\n",
       "    <tr>\n",
       "      <th>124</th>\n",
       "      <td>120.60</td>\n",
       "      <td>219.47</td>\n",
       "      <td>317.62</td>\n",
       "      <td>83.332542</td>\n",
       "      <td>Program Manager</td>\n",
       "    </tr>\n",
       "    <tr>\n",
       "      <th>125</th>\n",
       "      <td>125.86</td>\n",
       "      <td>195.55</td>\n",
       "      <td>294.71</td>\n",
       "      <td>83.512344</td>\n",
       "      <td>Program Manager</td>\n",
       "    </tr>\n",
       "    <tr>\n",
       "      <th>126</th>\n",
       "      <td>125.50</td>\n",
       "      <td>208.10</td>\n",
       "      <td>287.97</td>\n",
       "      <td>90.691912</td>\n",
       "      <td>Program Manager</td>\n",
       "    </tr>\n",
       "    <tr>\n",
       "      <th>127</th>\n",
       "      <td>134.93</td>\n",
       "      <td>216.74</td>\n",
       "      <td>310.33</td>\n",
       "      <td>94.237516</td>\n",
       "      <td>Program Manager</td>\n",
       "    </tr>\n",
       "    <tr>\n",
       "      <th>128</th>\n",
       "      <td>136.56</td>\n",
       "      <td>216.91</td>\n",
       "      <td>286.95</td>\n",
       "      <td>103.227843</td>\n",
       "      <td>Program Manager</td>\n",
       "    </tr>\n",
       "    <tr>\n",
       "      <th>129</th>\n",
       "      <td>120.78</td>\n",
       "      <td>218.28</td>\n",
       "      <td>326.42</td>\n",
       "      <td>80.766676</td>\n",
       "      <td>Program Manager</td>\n",
       "    </tr>\n",
       "    <tr>\n",
       "      <th>130</th>\n",
       "      <td>137.38</td>\n",
       "      <td>205.90</td>\n",
       "      <td>263.85</td>\n",
       "      <td>107.206905</td>\n",
       "      <td>Program Manager</td>\n",
       "    </tr>\n",
       "    <tr>\n",
       "      <th>131</th>\n",
       "      <td>161.71</td>\n",
       "      <td>243.95</td>\n",
       "      <td>307.02</td>\n",
       "      <td>128.490504</td>\n",
       "      <td>Program Manager</td>\n",
       "    </tr>\n",
       "    <tr>\n",
       "      <th>132</th>\n",
       "      <td>155.10</td>\n",
       "      <td>279.86</td>\n",
       "      <td>301.01</td>\n",
       "      <td>144.202139</td>\n",
       "      <td>Program Manager</td>\n",
       "    </tr>\n",
       "    <tr>\n",
       "      <th>133</th>\n",
       "      <td>113.07</td>\n",
       "      <td>223.10</td>\n",
       "      <td>298.40</td>\n",
       "      <td>84.537255</td>\n",
       "      <td>Program Manager</td>\n",
       "    </tr>\n",
       "    <tr>\n",
       "      <th>134</th>\n",
       "      <td>116.49</td>\n",
       "      <td>158.63</td>\n",
       "      <td>290.12</td>\n",
       "      <td>63.693674</td>\n",
       "      <td>Program Manager</td>\n",
       "    </tr>\n",
       "    <tr>\n",
       "      <th>135</th>\n",
       "      <td>157.73</td>\n",
       "      <td>213.46</td>\n",
       "      <td>251.49</td>\n",
       "      <td>133.878269</td>\n",
       "      <td>Program Manager</td>\n",
       "    </tr>\n",
       "    <tr>\n",
       "      <th>136</th>\n",
       "      <td>134.89</td>\n",
       "      <td>242.81</td>\n",
       "      <td>261.31</td>\n",
       "      <td>125.340174</td>\n",
       "      <td>Program Manager</td>\n",
       "    </tr>\n",
       "    <tr>\n",
       "      <th>137</th>\n",
       "      <td>127.54</td>\n",
       "      <td>171.58</td>\n",
       "      <td>290.05</td>\n",
       "      <td>75.446693</td>\n",
       "      <td>Program Manager</td>\n",
       "    </tr>\n",
       "    <tr>\n",
       "      <th>138</th>\n",
       "      <td>161.98</td>\n",
       "      <td>206.80</td>\n",
       "      <td>352.70</td>\n",
       "      <td>94.974380</td>\n",
       "      <td>Program Manager</td>\n",
       "    </tr>\n",
       "    <tr>\n",
       "      <th>139</th>\n",
       "      <td>146.32</td>\n",
       "      <td>221.37</td>\n",
       "      <td>305.48</td>\n",
       "      <td>106.032665</td>\n",
       "      <td>Program Manager</td>\n",
       "    </tr>\n",
       "    <tr>\n",
       "      <th>140</th>\n",
       "      <td>140.87</td>\n",
       "      <td>210.53</td>\n",
       "      <td>285.42</td>\n",
       "      <td>103.907789</td>\n",
       "      <td>Program Manager</td>\n",
       "    </tr>\n",
       "    <tr>\n",
       "      <th>141</th>\n",
       "      <td>144.25</td>\n",
       "      <td>192.52</td>\n",
       "      <td>297.70</td>\n",
       "      <td>93.285220</td>\n",
       "      <td>Program Manager</td>\n",
       "    </tr>\n",
       "    <tr>\n",
       "      <th>142</th>\n",
       "      <td>151.41</td>\n",
       "      <td>202.55</td>\n",
       "      <td>277.65</td>\n",
       "      <td>110.455954</td>\n",
       "      <td>Program Manager</td>\n",
       "    </tr>\n",
       "    <tr>\n",
       "      <th>143</th>\n",
       "      <td>130.91</td>\n",
       "      <td>196.95</td>\n",
       "      <td>315.46</td>\n",
       "      <td>81.730566</td>\n",
       "      <td>Program Manager</td>\n",
       "    </tr>\n",
       "    <tr>\n",
       "      <th>144</th>\n",
       "      <td>162.63</td>\n",
       "      <td>231.86</td>\n",
       "      <td>306.08</td>\n",
       "      <td>123.194563</td>\n",
       "      <td>Program Manager</td>\n",
       "    </tr>\n",
       "    <tr>\n",
       "      <th>145</th>\n",
       "      <td>160.24</td>\n",
       "      <td>229.85</td>\n",
       "      <td>267.56</td>\n",
       "      <td>137.655718</td>\n",
       "      <td>Program Manager</td>\n",
       "    </tr>\n",
       "    <tr>\n",
       "      <th>146</th>\n",
       "      <td>142.31</td>\n",
       "      <td>238.78</td>\n",
       "      <td>323.16</td>\n",
       "      <td>105.151571</td>\n",
       "      <td>Program Manager</td>\n",
       "    </tr>\n",
       "    <tr>\n",
       "      <th>147</th>\n",
       "      <td>111.37</td>\n",
       "      <td>195.65</td>\n",
       "      <td>274.06</td>\n",
       "      <td>79.506460</td>\n",
       "      <td>Program Manager</td>\n",
       "    </tr>\n",
       "    <tr>\n",
       "      <th>148</th>\n",
       "      <td>154.60</td>\n",
       "      <td>234.30</td>\n",
       "      <td>309.79</td>\n",
       "      <td>116.926886</td>\n",
       "      <td>Program Manager</td>\n",
       "    </tr>\n",
       "    <tr>\n",
       "      <th>149</th>\n",
       "      <td>131.86</td>\n",
       "      <td>249.43</td>\n",
       "      <td>290.49</td>\n",
       "      <td>113.221935</td>\n",
       "      <td>Program Manager</td>\n",
       "    </tr>\n",
       "  </tbody>\n",
       "</table>\n",
       "<p>150 rows × 5 columns</p>\n",
       "</div>"
      ],
      "text/plain": [
       "     bill_rate   hours  total_expenses  sales_expense_ratio    resource_type\n",
       "0       172.91   64.78          259.23            43.209157        Architect\n",
       "1       175.42   69.03          247.15            48.995519        Architect\n",
       "2       137.12   64.43          256.55            34.436334        Architect\n",
       "3       181.42   77.28          255.64            54.843286        Architect\n",
       "4       142.09   77.04          233.10            46.961019        Architect\n",
       "5       149.86   63.66          278.56            34.247873        Architect\n",
       "6       197.25   72.05          224.61            63.273507        Architect\n",
       "7       179.07   71.26          251.33            50.772006        Architect\n",
       "8       172.42   66.82          239.30            48.145025        Architect\n",
       "9       159.58   75.98          262.56            46.179496        Architect\n",
       "10      177.97   84.69          244.73            61.587379        Architect\n",
       "11      167.42   67.42          274.76            41.081149        Architect\n",
       "12      189.58   74.79          232.69            60.933810        Architect\n",
       "13      172.05   65.08          247.02            45.328370        Architect\n",
       "14      208.72   75.21          251.32            62.461528        Architect\n",
       "15      183.71   75.04          246.72            55.875480        Architect\n",
       "16      162.72   69.52          247.16            45.769115        Architect\n",
       "17      138.49   76.77          245.69            43.273545        Architect\n",
       "18      175.02   71.68          243.98            51.419926        Architect\n",
       "19      167.93   87.63          249.55            58.968968        Architect\n",
       "20      203.14   77.94          261.50            60.545819        Architect\n",
       "21      194.46   73.68          225.22            63.616965        Architect\n",
       "22      154.50   73.47          277.94            40.840163        Architect\n",
       "23      162.58   70.26          235.26            48.554241        Architect\n",
       "24      191.16   75.15          248.41            57.830498        Architect\n",
       "25      148.42   70.04          257.25            40.409472        Architect\n",
       "26      175.44   61.85          235.68            46.041090        Architect\n",
       "27      187.17   74.05          240.91            57.531603        Architect\n",
       "28      181.26   53.27          282.43            34.188012        Architect\n",
       "29      175.52   57.31          267.89            37.549185        Architect\n",
       "..         ...     ...             ...                  ...              ...\n",
       "120     140.68  224.50          308.12           102.501168  Program Manager\n",
       "121     112.68  202.01          312.22            72.905281  Program Manager\n",
       "122     125.58  194.07          312.97            77.871076  Program Manager\n",
       "123     129.10  230.09          256.26           115.915941  Program Manager\n",
       "124     120.60  219.47          317.62            83.332542  Program Manager\n",
       "125     125.86  195.55          294.71            83.512344  Program Manager\n",
       "126     125.50  208.10          287.97            90.691912  Program Manager\n",
       "127     134.93  216.74          310.33            94.237516  Program Manager\n",
       "128     136.56  216.91          286.95           103.227843  Program Manager\n",
       "129     120.78  218.28          326.42            80.766676  Program Manager\n",
       "130     137.38  205.90          263.85           107.206905  Program Manager\n",
       "131     161.71  243.95          307.02           128.490504  Program Manager\n",
       "132     155.10  279.86          301.01           144.202139  Program Manager\n",
       "133     113.07  223.10          298.40            84.537255  Program Manager\n",
       "134     116.49  158.63          290.12            63.693674  Program Manager\n",
       "135     157.73  213.46          251.49           133.878269  Program Manager\n",
       "136     134.89  242.81          261.31           125.340174  Program Manager\n",
       "137     127.54  171.58          290.05            75.446693  Program Manager\n",
       "138     161.98  206.80          352.70            94.974380  Program Manager\n",
       "139     146.32  221.37          305.48           106.032665  Program Manager\n",
       "140     140.87  210.53          285.42           103.907789  Program Manager\n",
       "141     144.25  192.52          297.70            93.285220  Program Manager\n",
       "142     151.41  202.55          277.65           110.455954  Program Manager\n",
       "143     130.91  196.95          315.46            81.730566  Program Manager\n",
       "144     162.63  231.86          306.08           123.194563  Program Manager\n",
       "145     160.24  229.85          267.56           137.655718  Program Manager\n",
       "146     142.31  238.78          323.16           105.151571  Program Manager\n",
       "147     111.37  195.65          274.06            79.506460  Program Manager\n",
       "148     154.60  234.30          309.79           116.926886  Program Manager\n",
       "149     131.86  249.43          290.49           113.221935  Program Manager\n",
       "\n",
       "[150 rows x 5 columns]"
      ]
     },
     "execution_count": 20,
     "metadata": {},
     "output_type": "execute_result"
    }
   ],
   "source": [
    "df"
   ]
  },
  {
   "cell_type": "markdown",
   "metadata": {},
   "source": [
    "### Inputs and outputs"
   ]
  },
  {
   "cell_type": "markdown",
   "metadata": {},
   "source": [
    "Firstly, I need to separate the dataframe into a set of inputs and a set of outputs so that k nearest neighbors algorithm can be trained with a set of inputs for which we know the outputs for. The inputs will be the four variables for which are numeric in the data set - bill rate, hours, total expenses and sales expense ratio. Then I create a new variable called inputs and set it to the dataframe. This will in turn select a sub-selction of the dataframe (four of the colums from the dataframe). Another variable called outputs will be created and this will be a sub-selction of the class column of the dataframe."
   ]
  },
  {
   "cell_type": "code",
   "execution_count": 21,
   "metadata": {},
   "outputs": [],
   "source": [
    "inputs = df[['bill_rate', 'hours', 'total_expenses', 'sales_expense_ratio']]\n",
    "outputs = df['resource_type']"
   ]
  },
  {
   "cell_type": "markdown",
   "metadata": {},
   "source": [
    "### Classifier"
   ]
  },
  {
   "cell_type": "markdown",
   "metadata": {},
   "source": [
    "KNeighborsClassifier is a class in python and it represenst an instance of the k nearest neighboors setup. A data structure is created that represents the k nearest neighbors algorithm and k is set to five. So on the seaborn plots, k nearest neighbors will find the five nearest data points for each of the data points the plots. It will then take a majority vote from each of these data points and decide whether the class should be architect, consultant or program manager."
   ]
  },
  {
   "cell_type": "code",
   "execution_count": 22,
   "metadata": {},
   "outputs": [],
   "source": [
    "knn = nei.KNeighborsClassifier(n_neighbors=5)"
   ]
  },
  {
   "cell_type": "markdown",
   "metadata": {},
   "source": [
    "### Fit"
   ]
  },
  {
   "cell_type": "markdown",
   "metadata": {},
   "source": [
    "The classifier then needs to be trained on the data set. I will fit the classifier with the inputs for which I know the outputs so that it can build a model of each of the classes."
   ]
  },
  {
   "cell_type": "code",
   "execution_count": 23,
   "metadata": {},
   "outputs": [
    {
     "data": {
      "text/plain": [
       "KNeighborsClassifier(algorithm='auto', leaf_size=30, metric='minkowski',\n",
       "           metric_params=None, n_jobs=1, n_neighbors=5, p=2,\n",
       "           weights='uniform')"
      ]
     },
     "execution_count": 23,
     "metadata": {},
     "output_type": "execute_result"
    }
   ],
   "source": [
    "knn.fit(inputs, outputs)"
   ]
  },
  {
   "cell_type": "markdown",
   "metadata": {},
   "source": [
    "### Predict"
   ]
  },
  {
   "cell_type": "markdown",
   "metadata": {},
   "source": [
    "A prediction can now be made based on the trained k nearest neighbors classifier. To test the algorithm, I will select a row on the dataframe for which I already know the output - for example row 121 of the dataframe."
   ]
  },
  {
   "cell_type": "code",
   "execution_count": 24,
   "metadata": {},
   "outputs": [
    {
     "data": {
      "text/plain": [
       "bill_rate                       112.68\n",
       "hours                           202.01\n",
       "total_expenses                  312.22\n",
       "sales_expense_ratio            72.9053\n",
       "resource_type          Program Manager\n",
       "Name: 121, dtype: object"
      ]
     },
     "execution_count": 24,
     "metadata": {},
     "output_type": "execute_result"
    }
   ],
   "source": [
    "df.loc[121]"
   ]
  },
  {
   "cell_type": "markdown",
   "metadata": {},
   "source": [
    "I can use the values of row 121 to predict the class of these values using knn.predict. In the below expample, knn has correctly predicted the program manager class."
   ]
  },
  {
   "cell_type": "code",
   "execution_count": 25,
   "metadata": {},
   "outputs": [
    {
     "data": {
      "text/plain": [
       "array(['Program Manager'], dtype=object)"
      ]
     },
     "execution_count": 25,
     "metadata": {},
     "output_type": "execute_result"
    }
   ],
   "source": [
    "knn.predict([[139.55, 243.19, 289.30, 117.30]])"
   ]
  },
  {
   "cell_type": "markdown",
   "metadata": {},
   "source": [
    "### Evaluate"
   ]
  },
  {
   "cell_type": "markdown",
   "metadata": {},
   "source": [
    "The knn.predict function takes sets of inputs and it predicts what the output should be for each of these inputs. If a suitable data set has been selected for the supervised learning algorithm. While the algorothim should be able to predict the output of of the inputs most of the time, unfortunately this does not happen all of the time. Using the below function, the number of correct predictions can be calculated. In the consulting services data set example, knn has predicted all classes correctly."
   ]
  },
  {
   "cell_type": "code",
   "execution_count": 26,
   "metadata": {},
   "outputs": [
    {
     "data": {
      "text/plain": [
       "150"
      ]
     },
     "execution_count": 26,
     "metadata": {},
     "output_type": "execute_result"
    }
   ],
   "source": [
    "(knn.predict(inputs) == outputs).sum()"
   ]
  },
  {
   "cell_type": "markdown",
   "metadata": {},
   "source": [
    "However, the classifer is supposed to make predictions about inputs it hasn't seen before not for ones it has seen before. Rather than fitting the knn with all of the inputs and outputs of the dataframe, we take a random selection of 100 rows of the dataframe and train the knn on those 100 and test the knn on the remaining 50. We can do this with the mod.train_test_split function. I pass in inputs and outputs and choose a test size of a third of the samples. The function returns four arrays - training inputs, testing inputs, training outputs and testing outputs."
   ]
  },
  {
   "cell_type": "code",
   "execution_count": 27,
   "metadata": {},
   "outputs": [],
   "source": [
    "inputs_train, inputs_test, outputs_train, outputs_test = mod.train_test_split(inputs, outputs, test_size=0.33)"
   ]
  },
  {
   "cell_type": "markdown",
   "metadata": {},
   "source": [
    "A new classifier then needs to be created for the new variables. The classifier then needs to be trained on the new inputs and ouputs."
   ]
  },
  {
   "cell_type": "code",
   "execution_count": 28,
   "metadata": {},
   "outputs": [
    {
     "data": {
      "text/plain": [
       "KNeighborsClassifier(algorithm='auto', leaf_size=30, metric='minkowski',\n",
       "           metric_params=None, n_jobs=1, n_neighbors=5, p=2,\n",
       "           weights='uniform')"
      ]
     },
     "execution_count": 28,
     "metadata": {},
     "output_type": "execute_result"
    }
   ],
   "source": [
    "knn = nei.KNeighborsClassifier(n_neighbors=5)\n",
    "knn.fit(inputs_train, outputs_train)"
   ]
  },
  {
   "cell_type": "markdown",
   "metadata": {},
   "source": [
    "Using knn.predict, I will predict the test inputs. The mod.train_test_split function has assisted knn is calculating all 50 of teh tets inputs correctly."
   ]
  },
  {
   "cell_type": "code",
   "execution_count": 29,
   "metadata": {},
   "outputs": [
    {
     "data": {
      "text/plain": [
       "50"
      ]
     },
     "execution_count": 29,
     "metadata": {},
     "output_type": "execute_result"
    }
   ],
   "source": [
    "(knn.predict(inputs_test) == outputs_test).sum()"
   ]
  },
  {
   "cell_type": "markdown",
   "metadata": {},
   "source": [
    "### Algorithmic bias"
   ]
  },
  {
   "cell_type": "code",
   "execution_count": 30,
   "metadata": {},
   "outputs": [
    {
     "data": {
      "text/plain": [
       "bill_rate               22.352937\n",
       "hours                  127.478674\n",
       "total_expenses          44.961189\n",
       "sales_expense_ratio     53.517175\n",
       "dtype: float64"
      ]
     },
     "execution_count": 30,
     "metadata": {},
     "output_type": "execute_result"
    }
   ],
   "source": [
    "df.std()"
   ]
  },
  {
   "cell_type": "code",
   "execution_count": 31,
   "metadata": {},
   "outputs": [
    {
     "data": {
      "text/html": [
       "<div>\n",
       "<style scoped>\n",
       "    .dataframe tbody tr th:only-of-type {\n",
       "        vertical-align: middle;\n",
       "    }\n",
       "\n",
       "    .dataframe tbody tr th {\n",
       "        vertical-align: top;\n",
       "    }\n",
       "\n",
       "    .dataframe thead th {\n",
       "        text-align: right;\n",
       "    }\n",
       "</style>\n",
       "<table border=\"1\" class=\"dataframe\">\n",
       "  <thead>\n",
       "    <tr style=\"text-align: right;\">\n",
       "      <th></th>\n",
       "      <th>bill_rate</th>\n",
       "      <th>hours</th>\n",
       "      <th>total_expenses</th>\n",
       "      <th>sales_expense_ratio</th>\n",
       "    </tr>\n",
       "    <tr>\n",
       "      <th>resource_type</th>\n",
       "      <th></th>\n",
       "      <th></th>\n",
       "      <th></th>\n",
       "      <th></th>\n",
       "    </tr>\n",
       "  </thead>\n",
       "  <tbody>\n",
       "    <tr>\n",
       "      <th>Architect</th>\n",
       "      <td>20.152301</td>\n",
       "      <td>7.487155</td>\n",
       "      <td>16.432592</td>\n",
       "      <td>9.531183</td>\n",
       "    </tr>\n",
       "    <tr>\n",
       "      <th>Consultant</th>\n",
       "      <td>16.591204</td>\n",
       "      <td>27.483191</td>\n",
       "      <td>38.598941</td>\n",
       "      <td>25.758336</td>\n",
       "    </tr>\n",
       "    <tr>\n",
       "      <th>Program Manager</th>\n",
       "      <td>14.747934</td>\n",
       "      <td>23.470883</td>\n",
       "      <td>26.932351</td>\n",
       "      <td>21.543306</td>\n",
       "    </tr>\n",
       "  </tbody>\n",
       "</table>\n",
       "</div>"
      ],
      "text/plain": [
       "                 bill_rate      hours  total_expenses  sales_expense_ratio\n",
       "resource_type                                                             \n",
       "Architect        20.152301   7.487155       16.432592             9.531183\n",
       "Consultant       16.591204  27.483191       38.598941            25.758336\n",
       "Program Manager  14.747934  23.470883       26.932351            21.543306"
      ]
     },
     "execution_count": 31,
     "metadata": {},
     "output_type": "execute_result"
    }
   ],
   "source": [
    "df.groupby('resource_type').std()"
   ]
  },
  {
   "cell_type": "code",
   "execution_count": 32,
   "metadata": {},
   "outputs": [
    {
     "data": {
      "text/html": [
       "<div>\n",
       "<style scoped>\n",
       "    .dataframe tbody tr th:only-of-type {\n",
       "        vertical-align: middle;\n",
       "    }\n",
       "\n",
       "    .dataframe tbody tr th {\n",
       "        vertical-align: top;\n",
       "    }\n",
       "\n",
       "    .dataframe thead th {\n",
       "        text-align: right;\n",
       "    }\n",
       "</style>\n",
       "<table border=\"1\" class=\"dataframe\">\n",
       "  <thead>\n",
       "    <tr style=\"text-align: right;\">\n",
       "      <th></th>\n",
       "      <th>bill_rate</th>\n",
       "      <th>hours</th>\n",
       "      <th>total_expenses</th>\n",
       "      <th>sales_expense_ratio</th>\n",
       "    </tr>\n",
       "    <tr>\n",
       "      <th>resource_type</th>\n",
       "      <th></th>\n",
       "      <th></th>\n",
       "      <th></th>\n",
       "      <th></th>\n",
       "    </tr>\n",
       "  </thead>\n",
       "  <tbody>\n",
       "    <tr>\n",
       "      <th>Architect</th>\n",
       "      <td>406.115216</td>\n",
       "      <td>56.057487</td>\n",
       "      <td>270.030079</td>\n",
       "      <td>90.843457</td>\n",
       "    </tr>\n",
       "    <tr>\n",
       "      <th>Consultant</th>\n",
       "      <td>275.268038</td>\n",
       "      <td>755.325781</td>\n",
       "      <td>1489.878231</td>\n",
       "      <td>663.491892</td>\n",
       "    </tr>\n",
       "    <tr>\n",
       "      <th>Program Manager</th>\n",
       "      <td>217.501560</td>\n",
       "      <td>550.882336</td>\n",
       "      <td>725.351542</td>\n",
       "      <td>464.114035</td>\n",
       "    </tr>\n",
       "  </tbody>\n",
       "</table>\n",
       "</div>"
      ],
      "text/plain": [
       "                  bill_rate       hours  total_expenses  sales_expense_ratio\n",
       "resource_type                                                               \n",
       "Architect        406.115216   56.057487      270.030079            90.843457\n",
       "Consultant       275.268038  755.325781     1489.878231           663.491892\n",
       "Program Manager  217.501560  550.882336      725.351542           464.114035"
      ]
     },
     "execution_count": 32,
     "metadata": {},
     "output_type": "execute_result"
    }
   ],
   "source": [
    "df.groupby('resource_type').var()"
   ]
  },
  {
   "cell_type": "code",
   "execution_count": 33,
   "metadata": {},
   "outputs": [
    {
     "data": {
      "image/png": "[encoded data removed]",
      "text/plain": [
       "<matplotlib.figure.Figure at 0x209b8aca320>"
      ]
     },
     "metadata": {},
     "output_type": "display_data"
    }
   ],
   "source": [
    "x = np.linspace(-10.0, 10.0, 1000)\n",
    "\n",
    "plt.fill(x, ss.norm.pdf(x, loc= 0.0, scale=1.0), label=\"$\\mu = 76.23, \\sigma = 8.73$\", c='b', alpha=0.6, lw=3.0)\n",
    "plt.fill(x, ss.norm.pdf(x, loc= 2.0, scale=1.0), label=\"$\\mu = 435.04, \\sigma = 20.85$\", c='r', alpha=0.6, lw=3.0)\n",
    "plt.fill(x, ss.norm.pdf(x, loc= 0.0, scale=2.0), label=\"$\\mu = 342.72, \\sigma = 18.15$\", c='g', alpha=0.6, lw=3.0)\n",
    "\n",
    "plt.title(\"Normal distribution for different $\\mu$ and $\\sigma$\")\n",
    "plt.legend();"
   ]
  },
  {
   "cell_type": "code",
   "execution_count": 34,
   "metadata": {},
   "outputs": [
    {
     "data": {
      "image/png": "[encoded data removed]",
      "text/plain": [
       "<matplotlib.figure.Figure at 0x209b94aafd0>"
      ]
     },
     "metadata": {},
     "output_type": "display_data"
    }
   ],
   "source": [
    "x = np.linspace(-3.0, 3.0, 1000)\n",
    "y = ss.norm.pdf(x, loc= 0.0, scale=1.0)\n",
    "\n",
    "xseg = x[np.logical_and(-1.0 < x,  x < 1.4)]\n",
    "yseg = y[np.logical_and(-1.0 < x,  x < 1.4)]\n",
    "\n",
    "plt.plot(x, y, color='k', alpha=0.5)\n",
    "plt.fill_between(xseg, yseg, color='b', alpha=0.5)\n",
    "plt.axvline(x=-1.0, color='grey', linestyle=':')\n",
    "plt.axvline(x= 1.4, color='grey', linestyle=':')\n",
    "\n",
    "plt.text(0.2, 0.15,\n",
    "         r'$P (a \\leq X \\leq b) = \\int_a^b \\frac{1}{\\sqrt{2\\pi\\sigma^2} } e^{ -\\frac{(x-\\mu)^2}{2\\sigma^2} } \\, dx$',\n",
    "         horizontalalignment='center', size=17)\n",
    "\n",
    "plt.axhline(y= 0.0, color='black', linestyle='-')\n",
    "\n",
    "plt.title(\"Probability of $x$ between $a$ and $b$\");"
   ]
  },
  {
   "cell_type": "code",
   "execution_count": null,
   "metadata": {},
   "outputs": [],
   "source": []
  }
 ],
 "metadata": {
  "kernelspec": {
   "display_name": "Python 3",
   "language": "python",
   "name": "python3"
  },
  "language_info": {
   "codemirror_mode": {
    "name": "ipython",
    "version": 3
   },
   "file_extension": ".py",
   "mimetype": "text/x-python",
   "name": "python",
   "nbconvert_exporter": "python",
   "pygments_lexer": "ipython3",
   "version": "3.6.4"
  }
 },
 "nbformat": 4,
 "nbformat_minor": 2
}
