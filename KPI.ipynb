{
 "cells": [
  {
   "cell_type": "markdown",
   "metadata": {},
   "source": [
    "# Problem Statement"
   ]
  },
  {
   "cell_type": "markdown",
   "metadata": {},
   "source": [
    "*For this project, you must create a data set by simulationing a real world phenomenom of your choosing. You may pick any phenomenom you wish - you might pick one that is of interest to you in your personal or professional life. Then, rather than collect data related to the phenomenum, you should model and synthesize such data using Python. We suggest you use the numpy.random package for this purpose.*"
   ]
  },
  {
   "cell_type": "markdown",
   "metadata": {},
   "source": [
    "## References\n",
    "\n",
    "- https://en.wikipedia.org/wiki/Red_Hat\n",
    "- https://searchsoftwarequality.techtarget.com/definition/histogram\n",
    "- https://en.wikipedia.org/wiki/Simpson%27s_paradox\n",
    "- https://en.wikipedia.org/wiki/Iris_flower_data_set\n",
    "- https://en.wikipedia.org/wiki/Sepal\n",
    "- https://en.wikipedia.org/wiki/Petal\n",
    "- https://www.scipy.org/\n"
   ]
  },
  {
   "cell_type": "markdown",
   "metadata": {},
   "source": [
    "## 1. Choose a real-world phenomenom that can be measured and for which you could collect at least one-hundred data points across at least four different variables.\n",
    "\n",
    "![Consulting](https://raw.githubusercontent.com/fionanealon/KPI/master/img/consulting2.jpeg)"
   ]
  },
  {
   "cell_type": "markdown",
   "metadata": {},
   "source": [
    "### Real-world pheomenon"
   ]
  },
  {
   "cell_type": "markdown",
   "metadata": {},
   "source": [
    "Red Hat, Inc. is an American multinational software company providing open-source software products to the enterprise community. Red Hat provides storage, operating system platforms, middleware, applications, management products, and support, training, and consulting services.[Ref: Red Hat](https://en.wikipedia.org/wiki/Red_Hat)\n",
    "\n",
    "I have based my research on a recent engagement delivered by the consulting services divison of Red Hat. This engagement was delivered by three resource types - consultant, architect and program manager.\n",
    "\n",
    "The consulting services division have consistently been finding anomolies in one of their key performances indicators - the sales to expenses ratio. The sales to expenses ratio is used to monitor expenses incurred by resources. It also shows the efficiency of a company's management by comparing sales to expenses. The larger the ratio, the greater the organization's ability to generate profit if expenses increase."
   ]
  },
  {
   "cell_type": "markdown",
   "metadata": {},
   "source": [
    "### Simpson's paradox"
   ]
  },
  {
   "cell_type": "markdown",
   "metadata": {},
   "source": [
    "Upon further investigation of the issue, I found that many of the anomolies in the sales to expenses raio were due to it's calculation at an aggregate level. Trends can be reversed by calculating ratios at an aggregate level. A key performance indicator may appear to performing well on an aggregate level but it may not always be performing well on a granular level.\n",
    "\n",
    "\n",
    "Simpson's paradox is a phenomenon in probability and statistics in which a trend appears in several different groups of data but is diminished or reversed when these groups are combined. [Ref: Simpson's papradox](https://en.wikipedia.org/wiki/Simpson%27s_paradox)"
   ]
  },
  {
   "cell_type": "markdown",
   "metadata": {},
   "source": [
    "### Engagement A"
   ]
  },
  {
   "cell_type": "markdown",
   "metadata": {},
   "source": [
    "See below an example of Simpson's parodox. For enagagement A, 100 hours at a bill rate of 250 have been delivered by an architect. 500 hours at a bill rate of 180 have been delivered by an architect. 200 hours at a bill rate of 150 have been delivered by a program manager. Expenses for architects are 6000, for consultants are 10000 and for program managers are 7000."
   ]
  },
  {
   "cell_type": "code",
   "execution_count": 1,
   "metadata": {},
   "outputs": [
    {
     "data": {
      "text/plain": [
       "4.53125"
      ]
     },
     "execution_count": 1,
     "metadata": {},
     "output_type": "execute_result"
    }
   ],
   "source": [
    "consulting_services_sales_expenses_ratio = ((100 * 250) + (500 * 180) + (200 * 150)) / (20000 + 5000 + 7000)\n",
    "consulting_services_sales_expenses_ratio"
   ]
  },
  {
   "cell_type": "code",
   "execution_count": 2,
   "metadata": {},
   "outputs": [
    {
     "data": {
      "text/plain": [
       "9.0"
      ]
     },
     "execution_count": 2,
     "metadata": {},
     "output_type": "execute_result"
    }
   ],
   "source": [
    "consultant_sales_expenses_ratio = (500 * 180) / 10000\n",
    "consultant_sales_expenses_ratio"
   ]
  },
  {
   "cell_type": "code",
   "execution_count": 3,
   "metadata": {},
   "outputs": [
    {
     "data": {
      "text/plain": [
       "4.285714285714286"
      ]
     },
     "execution_count": 3,
     "metadata": {},
     "output_type": "execute_result"
    }
   ],
   "source": [
    "program_manager_sales_expenses_ratio = (200 * 150) / 7000\n",
    "program_manager_sales_expenses_ratio"
   ]
  },
  {
   "cell_type": "code",
   "execution_count": 4,
   "metadata": {},
   "outputs": [
    {
     "data": {
      "text/plain": [
       "6.304347826086956"
      ]
     },
     "execution_count": 4,
     "metadata": {},
     "output_type": "execute_result"
    }
   ],
   "source": [
    "consulting_services_sales_expenses_ratio = ((100 * 250) + (500 * 180) + (200 * 150)) / (6000 + 10000 + 7000)\n",
    "consulting_services_sales_expenses_ratio"
   ]
  },
  {
   "cell_type": "markdown",
   "metadata": {},
   "source": [
    "The aggregate sales to expenses ratio for consulting services is 6.3. The target ratio is 5.0 so it appears that the consulting services is over-achieving in this ratio. However, what this ratio does not demonstrate is that the architect sales expense ratio and the program manager sales expense ratio is under achieving and that consultant sales expense ratio is achieving over and above.\n",
    "\n",
    "Managers may need to review the expenses incurred by architects and program managers in order to maixmise the sales to expenses ratio as their under performance is currently being masked by the consulting services sales ratio.\n",
    "\n",
    "Consulting services has requested me to devise an algorithm to assist with a more granular calculation of the sales expenses ratio and to demonstrate how bill rate, hours, total expenses and resource types all have an effect on it's performance."
   ]
  },
  {
   "cell_type": "markdown",
   "metadata": {},
   "source": [
    "## 2. Investigate the types of variables involved, their likely distributions, and their relationships with each other."
   ]
  },
  {
   "cell_type": "markdown",
   "metadata": {},
   "source": [
    "### Bill rate"
   ]
  },
  {
   "cell_type": "markdown",
   "metadata": {},
   "source": [
    "*Bill rate* is the second variable of the data set. This is the value of what we bill the customer for each hour worked by each employee on the engagement.\n"
   ]
  },
  {
   "cell_type": "markdown",
   "metadata": {},
   "source": [
    "### Hours"
   ]
  },
  {
   "cell_type": "markdown",
   "metadata": {},
   "source": [
    "*Hours* is the first variable of the data set. It is the number of hours that is worked by each employee working on the engagement."
   ]
  },
  {
   "cell_type": "markdown",
   "metadata": {},
   "source": [
    "### Total expenses"
   ]
  },
  {
   "cell_type": "markdown",
   "metadata": {},
   "source": [
    "*Total expenses* is the third variable of the data set. This is the value of expenses incurred by each employy working on the engagement.\n"
   ]
  },
  {
   "cell_type": "markdown",
   "metadata": {},
   "source": [
    "### Resource type\n"
   ]
  },
  {
   "cell_type": "markdown",
   "metadata": {},
   "source": [
    "*Resource type* is the fourth variable of the data set. This is the classification of each employee working on the engagement - architect, consultant and program manager. Architects are the most qualified of the three resource types, followed by the consultant resource type and then the program manager resource type."
   ]
  },
  {
   "cell_type": "markdown",
   "metadata": {},
   "source": [
    "### Sales to expense ratio"
   ]
  },
  {
   "cell_type": "markdown",
   "metadata": {},
   "source": [
    "*Sales to expense ratio* is the fifth variable of the data set. After some research, I have found that this is most interesting variable relating to my data set. Upon investigation on the of the problem, I find that *(hours)* multiplied by *(bill rate)* gives the total sales for the engagement. Total sales divided by total expense is the sales to expense ratio for the engagement.\n",
    "\n",
    "Sales to expense is a key performance indicator. The aim of the consulting services should be to maximise the bill rate they are charging for their service and also to maximise the number of hours it is taking to deliver the services while minimising the total expenses incurred from delivering the services. Employees who deliver a higher number of hours at a higher bill rate but with the lowest possible total expenses will excel at this key performance indicator."
   ]
  },
  {
   "cell_type": "markdown",
   "metadata": {},
   "source": [
    "### The iris data set"
   ]
  },
  {
   "cell_type": "markdown",
   "metadata": {},
   "source": [
    "![Fischer](https://raw.githubusercontent.com/fionanealon/iris-data-set-project/master/Fischer.jpg)"
   ]
  },
  {
   "cell_type": "markdown",
   "metadata": {},
   "source": [
    "One of the first multivariate data sets was introduced by British statiscian and biologist Ronald Fischer in 1936. This was named the Iris flower data set or Fisher's Iris data set. It is sometimes referred to as Anderson's Iris data set as it was Edgar Anderson who collected the data to quantify the botantical variations of Iris flowers of three related species. There are 150 rows of data in the data set and each row of the dataset represents an iris flower, including its species and dimensions of its botanical parts, sepal and petal, in centimeters. [Ref: Iris flower data set](https://en.wikipedia.org/wiki/Iris_flower_data_set)"
   ]
  },
  {
   "cell_type": "markdown",
   "metadata": {},
   "source": [
    "![Species](https://raw.githubusercontent.com/fionanealon/iris-data-set-project/master/iris.png)`"
   ]
  },
  {
   "cell_type": "markdown",
   "metadata": {},
   "source": [
    "The above picture shows the three species contained in each class of the data set - Iris setosa, Iris virginica and Iris versicolor. The data set contains 50 samples each of these species with their botanical dimensions, sepal and petal, included in each row of the dataset."
   ]
  },
  {
   "cell_type": "markdown",
   "metadata": {},
   "source": [
    "![Sepal](https://raw.githubusercontent.com/fionanealon/iris-data-set-project/master/iris_with_labels.jpg)"
   ]
  },
  {
   "cell_type": "markdown",
   "metadata": {},
   "source": [
    "Four features were measured from each sample: the length and the width of the sepals and petals, in centimetres. The sepal is described as a part of the flower with angiosperms (flowering plants). Sepals typically function as protection for the flower in bud, and often as support for the petals when in bloom. [Ref: Sepal](https://en.wikipedia.org/wiki/Sepal) Petals are described as modified leaves that surround the reproductive parts of flowers. [Ref: Petal](https://en.wikipedia.org/wiki/Petal)"
   ]
  },
  {
   "cell_type": "markdown",
   "metadata": {},
   "source": [
    "### KNN and the iris data set"
   ]
  },
  {
   "cell_type": "markdown",
   "metadata": {},
   "source": [
    "Although Fischer's Iris flower data set was initially compiled to identify the botanical variations of Iris flowers, it has since become a famous data set for testing purposes in the computer science world. It is a well known, standard data set which programmers repeatedly use as an input to examine how various technologies sort and handle data sets. It is also used for testing out machine learning algorithms and visualizations (for example, Scatter Plot, Histogram). \n",
    "\n",
    "Upon review of the iris data set, I have found that if I multiply the values of sepal length, sepal width and petal length by fifty, these values will tie very closely with my variables total expenses, bill rate and hours respectively. I will need to perform a calculation on my dataframe to add the values for the sales expense ratio column. Upon further investigation, I found that the values for setosa, versicolor and virginica tie closely to the reource type variables archiitect, program manager and consultant respectively (when multiplied by fifty)."
   ]
  },
  {
   "cell_type": "markdown",
   "metadata": {},
   "source": [
    "### 3. Synthesise/simulate a data set as closely matching their properties as possible."
   ]
  },
  {
   "cell_type": "markdown",
   "metadata": {},
   "source": [
    "![pandas logo](https://pandas.pydata.org/_static/pandas_logo.png)"
   ]
  },
  {
   "cell_type": "markdown",
   "metadata": {},
   "source": [
    "### Pandas"
   ]
  },
  {
   "cell_type": "markdown",
   "metadata": {},
   "source": [
    "I will create my dataframe usung the pandas package. It is a useful library for invetigating data sets. It's typically used in an interactive session with python. I will use pandas to come up with a workflow for calculating the sales expense ratio by performing a calculation on the other data points for the variables total expenses, bill rate and hours."
   ]
  },
  {
   "cell_type": "code",
   "execution_count": 5,
   "metadata": {},
   "outputs": [],
   "source": [
    "%matplotlib inline"
   ]
  },
  {
   "cell_type": "code",
   "execution_count": 6,
   "metadata": {},
   "outputs": [],
   "source": [
    "# Pan# Numpy is Python package for performing calculations on numerical arraysdas is Python package for analysing and manipluating dataframes\n",
    "import pandas as pd\n",
    "# Seaborn is a Python graphics package for creating plots.\n",
    "import seaborn as sns\n",
    "# Numpy is Python package for performing calculations on numerical arrays\n",
    "import numpy as np\n",
    "# The neighbors subpackage of the sklearn package for building nearest neighbors algorithms\n",
    "import sklearn.neighbors as nei\n",
    "# The model_selection subpackage of the sklearn package for testing nearest neighbors algorithms\n",
    "import sklearn.model_selection as mod\n",
    "# The stats subpackage of the scipy package contains a library of statistical functions.\n",
    "import scipy.stats as ss\n",
    "# Pyplot is a graphical subpackage of matplotlib for creating plots.\n",
    "import matplotlib.pyplot as plt\n",
    "\n",
    "# Set global parameter for using ggplot plotting style\n",
    "plt.style.use('ggplot')\n",
    "# Set the size of plots\n",
    "plt.rcParams['figure.figsize'] = 14, 10"
   ]
  },
  {
   "cell_type": "markdown",
   "metadata": {},
   "source": [
    "### Loading data"
   ]
  },
  {
   "cell_type": "code",
   "execution_count": 7,
   "metadata": {},
   "outputs": [],
   "source": [
    "df = pd.read_csv(\"https://raw.githubusercontent.com/fionanealon/datasets/master/kpi.csv\")"
   ]
  },
  {
   "cell_type": "markdown",
   "metadata": {},
   "source": [
    "### Find the mean"
   ]
  },
  {
   "cell_type": "code",
   "execution_count": 8,
   "metadata": {},
   "outputs": [
    {
     "data": {
      "text/html": [
       "<div>\n",
       "<style scoped>\n",
       "    .dataframe tbody tr th:only-of-type {\n",
       "        vertical-align: middle;\n",
       "    }\n",
       "\n",
       "    .dataframe tbody tr th {\n",
       "        vertical-align: top;\n",
       "    }\n",
       "\n",
       "    .dataframe thead th {\n",
       "        text-align: right;\n",
       "    }\n",
       "</style>\n",
       "<table border=\"1\" class=\"dataframe\">\n",
       "  <thead>\n",
       "    <tr style=\"text-align: right;\">\n",
       "      <th></th>\n",
       "      <th>total_expenses</th>\n",
       "      <th>bill_rate</th>\n",
       "      <th>hours</th>\n",
       "    </tr>\n",
       "    <tr>\n",
       "      <th>resource</th>\n",
       "      <th></th>\n",
       "      <th></th>\n",
       "      <th></th>\n",
       "    </tr>\n",
       "  </thead>\n",
       "  <tbody>\n",
       "    <tr>\n",
       "      <th>Architect</th>\n",
       "      <td>250.3</td>\n",
       "      <td>170.9</td>\n",
       "      <td>73.2</td>\n",
       "    </tr>\n",
       "    <tr>\n",
       "      <th>Consultant</th>\n",
       "      <td>329.4</td>\n",
       "      <td>148.7</td>\n",
       "      <td>277.6</td>\n",
       "    </tr>\n",
       "    <tr>\n",
       "      <th>Program-Manager</th>\n",
       "      <td>296.8</td>\n",
       "      <td>138.5</td>\n",
       "      <td>213.0</td>\n",
       "    </tr>\n",
       "  </tbody>\n",
       "</table>\n",
       "</div>"
      ],
      "text/plain": [
       "                 total_expenses  bill_rate  hours\n",
       "resource                                         \n",
       "Architect                 250.3      170.9   73.2\n",
       "Consultant                329.4      148.7  277.6\n",
       "Program-Manager           296.8      138.5  213.0"
      ]
     },
     "execution_count": 8,
     "metadata": {},
     "output_type": "execute_result"
    }
   ],
   "source": [
    "df.groupby('resource').mean()"
   ]
  },
  {
   "cell_type": "markdown",
   "metadata": {},
   "source": [
    "### Find the standard deviation"
   ]
  },
  {
   "cell_type": "code",
   "execution_count": 9,
   "metadata": {},
   "outputs": [
    {
     "data": {
      "text/html": [
       "<div>\n",
       "<style scoped>\n",
       "    .dataframe tbody tr th:only-of-type {\n",
       "        vertical-align: middle;\n",
       "    }\n",
       "\n",
       "    .dataframe tbody tr th {\n",
       "        vertical-align: top;\n",
       "    }\n",
       "\n",
       "    .dataframe thead th {\n",
       "        text-align: right;\n",
       "    }\n",
       "</style>\n",
       "<table border=\"1\" class=\"dataframe\">\n",
       "  <thead>\n",
       "    <tr style=\"text-align: right;\">\n",
       "      <th></th>\n",
       "      <th>total_expenses</th>\n",
       "      <th>bill_rate</th>\n",
       "      <th>hours</th>\n",
       "    </tr>\n",
       "    <tr>\n",
       "      <th>resource</th>\n",
       "      <th></th>\n",
       "      <th></th>\n",
       "      <th></th>\n",
       "    </tr>\n",
       "  </thead>\n",
       "  <tbody>\n",
       "    <tr>\n",
       "      <th>Architect</th>\n",
       "      <td>17.624484</td>\n",
       "      <td>19.051220</td>\n",
       "      <td>8.675558</td>\n",
       "    </tr>\n",
       "    <tr>\n",
       "      <th>Consultant</th>\n",
       "      <td>31.793980</td>\n",
       "      <td>16.124832</td>\n",
       "      <td>27.594735</td>\n",
       "    </tr>\n",
       "    <tr>\n",
       "      <th>Program-Manager</th>\n",
       "      <td>25.808557</td>\n",
       "      <td>15.689916</td>\n",
       "      <td>23.495549</td>\n",
       "    </tr>\n",
       "  </tbody>\n",
       "</table>\n",
       "</div>"
      ],
      "text/plain": [
       "                 total_expenses  bill_rate      hours\n",
       "resource                                             \n",
       "Architect             17.624484  19.051220   8.675558\n",
       "Consultant            31.793980  16.124832  27.594735\n",
       "Program-Manager       25.808557  15.689916  23.495549"
      ]
     },
     "execution_count": 9,
     "metadata": {},
     "output_type": "execute_result"
    }
   ],
   "source": [
    "df.groupby('resource').std()"
   ]
  },
  {
   "cell_type": "markdown",
   "metadata": {},
   "source": [
    "### Simulate the data"
   ]
  },
  {
   "cell_type": "markdown",
   "metadata": {},
   "source": [
    "In this section, I will similuate a dataframe for a consulting services engagement with the colums total expenses, bill rate and hours. I will use pandas to create the data frame and numpy to generate random vales for each of my variables. I will use numpy.random.normal to generate the vaules for the three variables. I have already calculated the mean and the standard deviation for each of the variables and their resource types (levels) by using df.groupby. I can now add those values to my dataframe simulation."
   ]
  },
  {
   "cell_type": "code",
   "execution_count": 10,
   "metadata": {},
   "outputs": [],
   "source": [
    "level1 = pd.DataFrame({'total_expenses': np.around(np.random.normal(250.3, 17.62, 50),2), 'bill_rate': np.around(np.random.normal(170.9, 19.05, 50),2), 'hours': np.around(np.random.normal(73.2, 8.67, 50),2)})"
   ]
  },
  {
   "cell_type": "code",
   "execution_count": 11,
   "metadata": {},
   "outputs": [],
   "source": [
    "level2 = pd.DataFrame({'total_expenses': np.around(np.random.normal(329.4, 31.79, 50),2), 'bill_rate': np.around(np.random.normal(148.7, 16.12, 50),2), 'hours': np.around(np.random.normal(377.60, 27.59, 50),2)})"
   ]
  },
  {
   "cell_type": "code",
   "execution_count": 12,
   "metadata": {},
   "outputs": [],
   "source": [
    "level3 = pd.DataFrame({'total_expenses': np.around(np.random.normal(296.8, 25.80, 50),2), 'bill_rate': np.around(np.random.normal(138.5, 15.68, 50),2), 'hours': np.around(np.random.normal(213, 23.49, 50),2)})"
   ]
  },
  {
   "cell_type": "markdown",
   "metadata": {},
   "source": [
    "In this section, I will find the values of the sales expenses ratio column by multipying the values in the bill rate column by the values in the hours column and dividing it by total expenses."
   ]
  },
  {
   "cell_type": "code",
   "execution_count": 13,
   "metadata": {},
   "outputs": [],
   "source": [
    "level1['sales_expense_ratio'] = (((level1['bill_rate']) * (level1['hours']))/ (level1['total_expenses']))"
   ]
  },
  {
   "cell_type": "code",
   "execution_count": 14,
   "metadata": {},
   "outputs": [],
   "source": [
    "level2['sales_expense_ratio'] = (((level2['bill_rate']) * (level2['hours']))/ (level2['total_expenses']))"
   ]
  },
  {
   "cell_type": "code",
   "execution_count": 15,
   "metadata": {},
   "outputs": [],
   "source": [
    "level3['sales_expense_ratio'] = (((level3['bill_rate']) * (level3['hours']))/ (level3['total_expenses']))"
   ]
  },
  {
   "cell_type": "markdown",
   "metadata": {},
   "source": [
    "In this section, I will add a column 'resource type' to my dataframe by concatinating all the values in level 1, level 2 and level 3 and reset the index of the dataframe."
   ]
  },
  {
   "cell_type": "code",
   "execution_count": 16,
   "metadata": {},
   "outputs": [],
   "source": [
    "level1['resource_type'] = 'Architect'\n",
    "level2['resource_type'] = 'Consultant'\n",
    "level3['resource_type'] = 'Program Manager'\n",
    "df = pd.concat([level1, level2, level3])\n",
    "df = df.reset_index(drop=True)"
   ]
  },
  {
   "cell_type": "markdown",
   "metadata": {},
   "source": [
    "### Find the mean for analysis commentary"
   ]
  },
  {
   "cell_type": "code",
   "execution_count": 17,
   "metadata": {},
   "outputs": [
    {
     "data": {
      "text/html": [
       "<div>\n",
       "<style scoped>\n",
       "    .dataframe tbody tr th:only-of-type {\n",
       "        vertical-align: middle;\n",
       "    }\n",
       "\n",
       "    .dataframe tbody tr th {\n",
       "        vertical-align: top;\n",
       "    }\n",
       "\n",
       "    .dataframe thead th {\n",
       "        text-align: right;\n",
       "    }\n",
       "</style>\n",
       "<table border=\"1\" class=\"dataframe\">\n",
       "  <thead>\n",
       "    <tr style=\"text-align: right;\">\n",
       "      <th></th>\n",
       "      <th>bill_rate</th>\n",
       "      <th>hours</th>\n",
       "      <th>total_expenses</th>\n",
       "      <th>sales_expense_ratio</th>\n",
       "    </tr>\n",
       "    <tr>\n",
       "      <th>resource_type</th>\n",
       "      <th></th>\n",
       "      <th></th>\n",
       "      <th></th>\n",
       "      <th></th>\n",
       "    </tr>\n",
       "  </thead>\n",
       "  <tbody>\n",
       "    <tr>\n",
       "      <th>Architect</th>\n",
       "      <td>173.8806</td>\n",
       "      <td>74.8094</td>\n",
       "      <td>252.1032</td>\n",
       "      <td>51.876968</td>\n",
       "    </tr>\n",
       "    <tr>\n",
       "      <th>Consultant</th>\n",
       "      <td>150.9018</td>\n",
       "      <td>380.3608</td>\n",
       "      <td>334.0004</td>\n",
       "      <td>173.642106</td>\n",
       "    </tr>\n",
       "    <tr>\n",
       "      <th>Program Manager</th>\n",
       "      <td>136.0764</td>\n",
       "      <td>215.2412</td>\n",
       "      <td>305.3414</td>\n",
       "      <td>96.596751</td>\n",
       "    </tr>\n",
       "  </tbody>\n",
       "</table>\n",
       "</div>"
      ],
      "text/plain": [
       "                 bill_rate     hours  total_expenses  sales_expense_ratio\n",
       "resource_type                                                            \n",
       "Architect         173.8806   74.8094        252.1032            51.876968\n",
       "Consultant        150.9018  380.3608        334.0004           173.642106\n",
       "Program Manager   136.0764  215.2412        305.3414            96.596751"
      ]
     },
     "execution_count": 17,
     "metadata": {},
     "output_type": "execute_result"
    }
   ],
   "source": [
    "df.groupby('resource_type').mean()"
   ]
  },
  {
   "cell_type": "markdown",
   "metadata": {},
   "source": [
    "### Find the standard deviation for analysis commentary"
   ]
  },
  {
   "cell_type": "code",
   "execution_count": 18,
   "metadata": {},
   "outputs": [
    {
     "data": {
      "text/html": [
       "<div>\n",
       "<style scoped>\n",
       "    .dataframe tbody tr th:only-of-type {\n",
       "        vertical-align: middle;\n",
       "    }\n",
       "\n",
       "    .dataframe tbody tr th {\n",
       "        vertical-align: top;\n",
       "    }\n",
       "\n",
       "    .dataframe thead th {\n",
       "        text-align: right;\n",
       "    }\n",
       "</style>\n",
       "<table border=\"1\" class=\"dataframe\">\n",
       "  <thead>\n",
       "    <tr style=\"text-align: right;\">\n",
       "      <th></th>\n",
       "      <th>bill_rate</th>\n",
       "      <th>hours</th>\n",
       "      <th>total_expenses</th>\n",
       "      <th>sales_expense_ratio</th>\n",
       "    </tr>\n",
       "    <tr>\n",
       "      <th>resource_type</th>\n",
       "      <th></th>\n",
       "      <th></th>\n",
       "      <th></th>\n",
       "      <th></th>\n",
       "    </tr>\n",
       "  </thead>\n",
       "  <tbody>\n",
       "    <tr>\n",
       "      <th>Architect</th>\n",
       "      <td>20.770081</td>\n",
       "      <td>8.823103</td>\n",
       "      <td>15.971377</td>\n",
       "      <td>9.842237</td>\n",
       "    </tr>\n",
       "    <tr>\n",
       "      <th>Consultant</th>\n",
       "      <td>15.884754</td>\n",
       "      <td>24.578090</td>\n",
       "      <td>34.012842</td>\n",
       "      <td>28.128497</td>\n",
       "    </tr>\n",
       "    <tr>\n",
       "      <th>Program Manager</th>\n",
       "      <td>14.801834</td>\n",
       "      <td>22.325962</td>\n",
       "      <td>23.907943</td>\n",
       "      <td>17.020984</td>\n",
       "    </tr>\n",
       "  </tbody>\n",
       "</table>\n",
       "</div>"
      ],
      "text/plain": [
       "                 bill_rate      hours  total_expenses  sales_expense_ratio\n",
       "resource_type                                                             \n",
       "Architect        20.770081   8.823103       15.971377             9.842237\n",
       "Consultant       15.884754  24.578090       34.012842            28.128497\n",
       "Program Manager  14.801834  22.325962       23.907943            17.020984"
      ]
     },
     "execution_count": 18,
     "metadata": {},
     "output_type": "execute_result"
    }
   ],
   "source": [
    "df.groupby('resource_type').std()"
   ]
  },
  {
   "cell_type": "markdown",
   "metadata": {},
   "source": [
    "### Visualise"
   ]
  },
  {
   "cell_type": "code",
   "execution_count": 19,
   "metadata": {},
   "outputs": [
    {
     "data": {
      "text/plain": [
       "<seaborn.axisgrid.PairGrid at 0x1669f2a2eb8>"
      ]
     },
     "execution_count": 19,
     "metadata": {},
     "output_type": "execute_result"
    },
    {
     "data": {
      "image/png": "[encoded data removed]",
      "text/plain": [
       "<matplotlib.figure.Figure at 0x1669f2a2710>"
      ]
     },
     "metadata": {},
     "output_type": "display_data"
    }
   ],
   "source": [
    "sns.pairplot(df, hue=\"resource_type\")"
   ]
  },
  {
   "cell_type": "markdown",
   "metadata": {},
   "source": [
    "**Seaborn**"
   ]
  },
  {
   "cell_type": "markdown",
   "metadata": {},
   "source": [
    "\n",
    "Seaborn is also a plotting library is python. It makes assumptions about the data set you wish to plot. By adding additional graphics to the plots you wish to plot, Seaborn provides a plotting library with far better aesthetics than matplotlib. It is also more efficient. With a couple of lines of code, a far more visually appealing graphical reperesentation of the columns of the  data set can be provided. Seaborn is used in conjuction with pandas.\n",
    "\n",
    "In the above plots, I used pairplot to graphically demonstrate the relationship between the variables of my simualation. Pairplot takes the dataframe from pandas and it produces a grid of 4 x 4 plots. The first column of columns plots total expenses against each of the other variables, the second column of colums plots bill rate against each of the other variables, the third column of columns plots hours against each of the other variables and the fourth column of columns plots operating ratio against each of the other variables. And likewise with the rows.\n",
    "\n",
    "The idea of these 4 x 4 grid plots is to compare all the numeric values within the data set against each other. It ignores the classification variable resource type as this is not a numeric value. A legend has been provided by pairplot to show which data points relate to each of the resouce types.\n",
    "\n",
    "\n",
    "**Bill rate histogram**\n",
    "\n",
    "A histogram is a plot used for plotting one dimensional data. The bill rate histogram is plotting the bill rate values on the x axis and provides a graphical representation of their distribution, a normal distribution.  The histogram uses bins to show the frequency of data in successive numerical intervals of equal size. [Ref: Histogram](https://searchsoftwarequality.techtarget.com/definition/histogram) The areas in which the bins of the histogram peak shows the mean of the data. The red (architect) bill rate appear to peak around the mean of 170.9. The architect bill rate has a standard deviation of 19.05 or 11% of it's mean. The blue (consultant) bill rate appear to peak around the mean of 148.7. The consultant bill rate has a standard deviation of 16.12 or 11% of it's mean. The purple (purple) bill rate appear to peak around the mean of 138.5. The program manager bill rate has a standard deviation of 15.68 or 11% of it's mean. Although the mean of the resource types peak at different values, the shape of each of their plots is quite similar as their standard deviation is the same.\n",
    "\n",
    "**Bill rate and hours scatter plot** \n",
    "\n",
    "The bill rate and hours plot has been plotted on a scatter plot. A scatter plot is a graphical representation of the values of two variables which are plotted on the x and y axis. The resulting data points reveal any correlation present. The bill rate values on the x axis range from 88 up to about 225 and the hours values on the y axis range from around 50 up to around 440. Every dot on the plot represents a row of the dataframe. For each point on the dataframe, you can find it's bill rate value on the x axis and it's corresponding hours value on the y axis. The data point is placed on the plot where the two values meet. The red (architect) data points appear to be in their own group. There apear to have a bill rate ranging from 125 to 250 and there apprears to be deliveries fewer than 100 hours for architects. The purple (program manager) data points also appear to be in their own group. Program managers have a bill rate of around 100 to 175 and there appears to be deliveries of between 150 and 250 hours for program managers. The blue (consultant) data points also appear to be in their own group. They have a bill rate of around 110 to 180 and appear to have deliveries of between 300 and 400 hours. The architect resource type is the most knowledgable of the three resource types. They are generally deployed to offer mentoring to consultants and do not perform the day to day operations of the project and therfore hours deliveries for this resouce type would be quite low. Program managers take care of the day to day management of the project, they are not as qualified as the consultants and architects so a lower bill rate would be charged for their hours. Consultants perform most of the day to day operations of the project so as expected their hours deliveries are the highest of the group. As they are more qualified than the program mangers but less qualified than the architects their bill rates are in the middle range of the group. \n",
    "\n",
    "\n",
    "**Bill rate and total expenses scatter plot** \n",
    "\n",
    "The bill rate and total expenses plot has been plotted on a scatter plot. A scatter plot is a graphical representation of the values of two variables which are plotted on the x and y axix. The resulting data points reveal any correlation present. The bill rate values on the x axis range from 88 up to about 225 and the total expenses values on the y axis range from around 211 up to around 416. Every dot on the plot represents a row of the dataframe. For each point on the dataframe, you can find it's bill rate value on the x axis and it's corresponding total expenses value on the y axis. The data point is placed on the plot where the two values meet. Although the red (architect) data points appear to be in their own group, this group is not as definitive as other plots. There does appear to be some crossover with other resource types. They apear to have a bill rate ranging from 125 to 225 and they appear to have total expenses ranging from 210 to 280 . The purple (program manager) data points again appear to be in their own group but the grooup is not as definite. Program managers have a bill rate of around 100 to 175 and total expenses of 225 to 350. There apears to be quite a lot of variation in the blue (consultant) data points and it would be difficult to assign these data points into one group. They have a bill rate of around 110 to 180 and appear to have total expenses 250 to 425. The architect resource type is the most knowledgable of the three resource types. They are generally deployed to offer mentoring to consultants and do not perform the day to day operations of the project and therfore hours deliveries for this resouce type would be quite low and resulting total expenses would be quite low. Program managers take care of the day to day management of the project, they are not as qualified as the consultants and architects so a lower bill rate would be charged for their hours. Their hours deliveries would be in the mid range so their resulting total expenses would be in the mid range. Consultants perform most of the day to day operations of the project so as expected their hours deliveries are the highest of the group and resulting total expenses are the highest. As they are more qualified than the program mangers but less qualified than the architects their bill rates are in the middle range of the group. \n",
    "\n",
    "**Bill rate and sales expense ratio scatter plot** \n",
    "\n",
    "The bill rate and sales expense ratio plot has been plotted on a scatter plot. A scatter plot is a graphical representation of the values of two variables which are plotted on the x and y axix. The resulting data points reveal any correlation present. The bill rate values on the x axis range from 88 up to about 225 and the sales expense ratio values on the y axis range from around 37 up to around 255. Every dot on the plot represents a row of the dataframe. For each point on the dataframe, you can find it's bill rate value on the x axis and it's corresponding total expenses value on the y axis. The data point is placed on the plot where the two values meet. The red (architect) data points appear to be in their own group. They apear to have a bill rate ranging from 125 to 250 and they appear to have sales expense ratio ranging from 37 to 75. The purple (program manager) data points again appear to be in their own group. Program managers have a bill rate of around 100 to 175 and a sales expense ratio of 60 up to 150. The blue (consultant) data points appear to be in their own group. They have a bill rate of around 110 to 180 and appear to have a sales expense ratio of 100 to 250. The architect resource type is the most knowledgable of the three resource types. They are generally deployed to offer mentoring to consultants and do not perform the day to day operations of the project and therfore hours deliveries for this resouce type would be quite low and resulting sales expense would be quite low. Program managers take care of the day to day management of the project, they are not as qualified as the consultants and architects so a lower bill rate would be charged for their hours. Their hours deliveries would be in the mid range so their resulting sales expense ratio would be in the mid range. Consultants perform most of the day to day operations of the project so as expected their hours deliveries are the highest of the group and resulting sales expense ratio are the highest. As they are more qualified than the program mangers but less qualified than the architects their bill rates are in the middle range of the group. \n",
    "\n",
    "\n",
    "**Hours and bill rate scatter plot** \n",
    "\n",
    "The bill rate and hours plot has been plotted on a scatter plot. A scatter plot is a graphical representation of the values of two variables which are plotted on the x and y axis. The resulting data points reveal any correlation present. The hours values on the x axis range from around 50 up to around 440 and bill rate values on the y axis range from 88 up to about 225. Every dot on the plot represents a row of the dataframe. For each point on the dataframe, you can find it's hours value on the x axis and it's corresponding bill rate value on the y axis. The data point is placed on the plot where the two values meet. The red (architect) data points appear to be in their own group. There apear to have a bill rate ranging from 125 to 250 and there apprears to be deliveries fewer than 100 hours for architects. The purple (program manager) data points also appear to be in their own group. Program managers have a bill rate of around 100 to 175 and there appears to be deliveries of between 150 and 250 hours for program managers. The blue (consultant) data points also appear to be in their own group. They have a bill rate of around 110 to 180 and appear to have deliveries of between 300 and 400 hours. The architect resource type is the most knowledgable of the three resource types. They are generally deployed to offer mentoring to consultants and do not perform the day to day operations of the project and therfore hours deliveries for this resouce type would be quite low. Program managers take care of the day to day management of the project, they are not as qualified as the consultants and architects so a lower bill rate would be charged for their hours. Consultants perform most of the day to day operations of the project so as expected their hours deliveries are the highest of the group. As they are more qualified than the program mangers but less qualified than the architects their bill rates are in the middle range of the group. \n",
    "\n",
    "**Hours histogram**\n",
    "\n",
    "A histogram is a plot used for plotting one dimensional data. The hours histogram is plotting the hours values on the x axis and provides a graphical representation of their distribution, a normal distribution.  The histogram uses bins to show the frequency of data in successive numerical intervals of equal size. [Ref: Histogram](https://searchsoftwarequality.techtarget.com/definition/histogram) The areas in which the bins of the histogram peak shows the mean of the data. The red (architect) hours appear to peak around the mean of 73.2. The architect hours have a standard deviation of 8.67 or 12% of it's mean. Because of the value of it's mean, the red data on the histogram has the highest peak. The purple (purple) hours appear to peak around the mean of 213. The purple (program) hours appear to peak around the mean of 138.50. The program manager bill rate has a standard deviation of 23.49 or 11% of it's mean. The blue (consultant) hours appear to peak around the mean of 277. The consultant bill rate has a standard deviation of 27.59 ot 10% of it's mean.  Although the mean of the resource types peak at different values, the shape of each of their plots is quite similar as their standard deviation to mean ratio is the same.\n",
    "\n",
    "**Hours and total expenses scatter plot** \n",
    "\n",
    "The bill rate and hours plot has been plotted on a scatter plot. A scatter plot is a graphical representation of the values of two variables which are plotted on the x and y axis. The resulting data points reveal any correlation present. The hours values on the x axis range from around 50 up to around 440 and total expenses values on the y axis range from 210 up to about 400. Every dot on the plot represents a row of the dataframe. For each point on the dataframe, you can find it's hours value on the x axis and it's corresponding total expenses value on the y axis. The data point is placed on the plot where the two values meet. The red (architect) data points appear to be in their own group. They apear to have a hours deliveries ranging from 125 to 250 and total expenses appear to range from 210 to 300. The purple (program manager) data points appear to have deliveries of between 150 and 250 hours and have total expenses of 215 to 360. The blue (consultant) data points also appear to be in their own group. They have deliveries of between 300 and 400 hours and total expenses of 240 to 400. The architect resource type is the most knowledgable of the three resource types. They are generally deployed to offer mentoring to consultants and do not perform the day to day operations of the project and therfore hours deliveries for this resouce type would be quite low and resulting total total expenses will be quite low. Program managers take care of the day to day management of the project, they are not required to deliver as many hours as consultants so there hours and resulting total expenses would be in the mid range. Consultants perform most of the day to day operations of the project so as expected their hours deliveries are the highest of the group. Their hours deliveries and resulting total expenses are the highest of the group.\n",
    "\n",
    "**Hours and sales expense ratio scatter plot** \n",
    "\n",
    "The hours and sales expense ratio plot has been plotted on a scatter plot. A scatter plot is a graphical representation of the values of two variables which are plotted on the x and y axix. The resulting data points reveal any correlation present. The hours values on the x axis range from around 50 up to around 440 and the sales expense ratio values on the y axis range from around 211 up to around 416. Every dot on the plot represents a row of the dataframe. For each point on the dataframe, you can find it's hours value on the x axis and it's corresponding sales expense value on the y axis. The data point is placed on the plot where the two values meet. The red (architect) data points appear to be in their own group. TTey apear to have a hours deliveries ranging from 125 to 250 and they appear to have sales expense ratio ranging from 37 to 75. The purple (program manager) data points are also in their own group. The purple (program manager) data points appear to have deliveries of between 150 and 250 hours and a sales expense ratio of 60 up to 150. The blue (consultant) data points are seem to be in their own group. They have deliveries of between 300 and 400 hours and appear to have a sales expense ratio of 100 to 250. The architect resource type is the most knowledgable of the three resource types. They are generally deployed to offer mentoring to consultants and do not perform the day to day operations of the project and therfore hours deliveries for this resouce type would be quite low and resulting total expenses and sales expense ratio would be quite low. Program managers take care of the day to day management of the project, they are not reuired to deliver as many hours as consulatnts so their hours and resulting total expenses and sales expenses ratio would be in the mid range. Consultants perform most of the day to day operations of the project so as expected their hours deliveries are the highest of the group and resulting total expenses and sales expenses ratio are the highest of the three groups. \n",
    "\n",
    "**Total expenses and bill rate scatter plot** \n",
    "\n",
    "The bill rate and total expenses plot has been plotted on a scatter plot. A scatter plot is a graphical representation of the values of two variables which are plotted on the x and y axix. The resulting data points reveal any correlation present. The  total expenses values on the x axis range from around 211 up to around 416 and the bill rate values on the y axis range from 88 up to about 225. Every dot on the plot represents a row of the dataframe. For each point on the dataframe, you can find it's bill rate value on the x axis and it's corresponding total expenses value on the y axis. The data point is placed on the plot where the two values meet. Although the red (architect) data points appear to be in their own group, this group is not as definitive as other plots. There does appear to be some crossover with other resource types. They appear to have total expenses ranging from 210 to 300 and apear to have a bill rate ranging from 125 to 225. The purple (program manager) data points again appear to be in their own group but the group is not as definite as other plots. Program managers have total expenses of 225 to 360 and a bill rate of around 105 to 185. There apears to be quite a lot of variation in the blue (consultant) data points and it would be difficult to assign these data points into one group. They appear to have total expenses 250 to 425 a bill rate of around 110 to 180 and appear to have total expenses 250 to 400. The architect resource type is the most knowledgable of the three resource types. They are generally deployed to offer mentoring to consultants and do not perform the day to day operations of the project and therfore hours deliveries for this resouce type would be quite low and resulting total expenses would be quite low. Program managers take care of the day to day management of the project, they are not as qualified as the consultants and architects so a lower bill rate would be charged for their hours. Their hours deliveries would be in the mid range so their resulting total expenses would be in the mid range. Consultants perform most of the day to day operations of the project so as expected their hours deliveries are the highest of the group and resulting total expenses are the highest. As they are more qualified than the program mangers but less qualified than the architects their bill rates are in the middle range of the group. \n",
    "\n",
    "**Total expenses and hours scatter plot** \n",
    "\n",
    "The hours and total expenses plot has been plotted on a scatter plot. A scatter plot is a graphical representation of the values of two variables which are plotted on the x and y axis. The resulting data points reveal any correlation present. The total expenses values on the x axis range from 210 up to about 400 and the hours values on the y axis range from around 50 up to around 440. Every dot on the plot represents a row of the dataframe. For each point on the dataframe, you can find it's total expenses values on the x axis and it's corresponding hours values on the y axis. The data point is placed on the plot where the two values meet. The red (architect) data points appear to be in their own group. Total expenses appear to range from 210 to 300 and hours deliveries range from 50 to 100. The purple (program manager) data points are also in their own group. Total expenses of 215 to 360 and hours deliveries of between 180 and 250. The blue (consultant) data points also appear to be in their own group. Total expenses range 240 to 400 and hours deliveries of between 300 and 450. The architect resource type is the most knowledgable of the three resource types. They are generally deployed to offer mentoring to consultants and do not perform the day to day operations of the project and therfore hours deliveries for this resouce type would be quite low and resulting total total expenses will be quite low. Program managers take care of the day to day management of the project, they are not required to deliver as many hours as consultants so there hours and resulting total expenses would be in the mid range. Consultants perform most of the day to day operations of the project so as expected their hours deliveries are the highest of the group. Their hours deliveries and resulting total expenses are the highest of the group.\n",
    "\n",
    "**Total expenses histogram**\n",
    "\n",
    "A histogram is a plot used for plotting one dimensional data. The hours histogram is plotting the hours values on the x axis and provides a graphical representation of their distribution, a normal distribution.  The histogram uses bins to show the frequency of data in successive numerical intervals of equal size. [Ref: Histogram](https://searchsoftwarequality.techtarget.com/definition/histogram) The areas in which the bins of the histogram peak shows the mean of the data. The red (architect) hours appear to peak around the mean of 250.3. The architect hours have a standard deviation of 17.62 or 7% of it's mean. This is the lowest standard deviation of the three resource types. Because of this, the red data on the histogram has the highest peak as we can expect the lowest swings for total expenses for architect hours. The purple (purple) hours appear to peak around the mean of 296.8. The program manager bill rate has a standard deviation of 25.80 or 9% of it's mean. This hours standard deviation is in the mid range of the three resource types so we can expect swings in total expenses in the mid range. The blue (consultant) hours appear to peak around the mean of 329.40. The consultant bill rate has a standard deviation of 31.79 ot 10% of it's mean. This is the largest standard deviation of the three resource types. Because of this, the blue data on the histogram has a flattest shape as we can expect larger swings in the hours delivered for consultant hours. I would recommend that management would review total expenses and implement some measures to try and standardise total expenses across the three groups. The standard deviation for total expenses is quite large across all of the resource types. This could lead to variation in our key performance ratio - sales to expense ratio.\n",
    "\n",
    "\n",
    "**Total expenses and sales expense ratio scatter plot** \n",
    "\n",
    "The total expenses and sales expenses plot has been plotted on a scatter plot. A scatter plot is a graphical representation of the values of two variables which are plotted on the x and y axis. The resulting data points reveal any correlation present. The total expenses values on the x axis range from 210 up to about 400 and the sales expenses values on the y axis range from around \n",
    "25 up to around 400. Every dot on the plot represents a row of the dataframe. For each point on the dataframe, you can find it's total expenses values on the x axis and it's corresponding sales expense ratio values on the y axis. The data point is placed on the plot where the two values meet. The red (architect) data points appear to be in their own group. Total expenses appear to range from 210 to 300 and the sales expenses ratio values range from 25 to 75. The purple (program manager) data points are also in their own group. Total expenses of 215 to 360 and the sales expense ratio values range from 60 to 150. The blue (consultant) data points also appear to be in their own group. Total expenses range 240 to 400 and sales expense ratio values range from 100 to 250. The architect resource type is the most knowledgable of the three resource types. They are generally deployed to offer mentoring to consultants and do not perform the day to day operations of the project and therfore hours deliveries for this resouce type would be quite low. The resulting total expenses and sales expense ratio will be quite low. Program managers take care of the day to day management of the project, they are not required to deliver as many hours as consultants. The resulting total expenses and slaes expense ratio would be in the mid range. Consultants perform most of the day to day operations of the project so as expected their hours deliveries are the highest of the group. Their hours deliveries and resulting total expenses  and sales expense ratio are the highest of the group.\n",
    "\n",
    "**Sales expense ratio and bill rate scatter plot** \n",
    "\n",
    "The sales expenses ratio and hours plot has been plotted on a scatter plot. A scatter plot is a graphical representation of the values of two variables which are plotted on the x and y axis. The resulting data points reveal any correlation present. The sales expense ratio values on the x axis range from around 25 up to around 250 and bill rate values range form 50 up to 225. Every dot on the plot represents a row of the dataframe. For each point on the dataframe, you can find it's sales expenses ratio values on the x axis and it's corresponding bill rate values on the y axis. The data point is placed on the plot where the two values meet. The red (architect) data points appear to be in their own group. Sales expense ratio values appear to range from 25 to 75 and bill rate values range from 125 to 225. The purple (program manager) data points are also in their own group. Sales expense ratio ratio values range from 60 to 150 and bill rate values range from 110 to 185. The blue (consultant) data points also appear to be in their own group. Sales expense ratio values range from 100 to 250 and bill rate values range form 50 to 180. The architect resource type is the most knowledgable of the three resource types. They are generally deployed to offer mentoring to consultants and do not perform the day to day operations of the project and even though their bill rate is generally higher than the other two groups, the hours deliveries for this resouce type would be quite low. Therefore, the  resulting sales expense ratio will also be quite low. Program managers take care of the day to day management of the project, they are not required to deliver as many hours as consultants and their bill rate and total expenses would be in the mid range. The resulting sales expense ratio would be also in the mid range. Consultants perform most of the day to day operations of the project so as expected their hours deliveries are the highest of the group. Their hours deliveries and total expenses and resulting sales expense ratio are the highest of the group.\n",
    "\n",
    "**Sales expense ratio and hours scatter plot** \n",
    "\n",
    "The sales expenses ratio and hours plot has been plotted on a scatter plot. A scatter plot is a graphical representation of the values of two variables which are plotted on the x and y axis. The resulting data points reveal any correlation present. The sales expense ratio values on the x axis range from around 25 up to around 250 and hours values range form 50 up to 450. Every dot on the plot represents a row of the dataframe. For each point on the dataframe, you can find it's sales expenses ratio values on the x axis and it's corresponding hours values on the y axis. The data point is placed on the plot where the two values meet. The red (architect) data points appear to be in their own group. Sales expense ratio values appear to range from 37 to 75 and hours values range from 50 to 100. The purple (program manager) data points are also in their own group. Sales expense ratio values range from 60 to 150 and hours values range from 150 to 250. The blue (consultant) data points also appear to be in their own group. Sales expense ratio values range from 100 to 250 and hours values range from 300 to 450. The architect resource type is the most knowledgable of the three resource types. They are generally deployed to offer mentoring to consultants and do not perform the day to day operations of the project and therfore hours deliveries for this resouce type would be quite low. The resulting sales expense ratio will also be quite low. Program managers take care of the day to day management of the project, they are not required to deliver as many hours as consultants. The resulting sales expense ratio would be also in the mid range. Consultants perform most of the day to day operations of the project so as expected their hours deliveries are the highest of the group. Their hours deliveries and resulting sales expense ratio are the highest of the group.\n",
    "\n",
    "**Sales expense ratio and total expenses scatter plot** \n",
    "\n",
    "The sales expenses ratio and total expenses plot has been plotted on a scatter plot. A scatter plot is a graphical representation of the values of two variables which are plotted on the x and y axis. The resulting data points reveal any correlation present. The sales expenses values on the x axis range from around 25 up to around 400 and total expenses values on the y axis range from 210 up to about 400. Every dot on the plot represents a row of the dataframe. For each point on the dataframe, you can find it's sales expenses ratio value on the x axis and it's corresponding total expenses value on the y axis. The data point is placed on the plot where the two values meet. The red (architect) data points appear to be in their own group. Sales expenses ratio values range from 25 to 75 and total expenses appear to range from 210 to 300. The purple (program manager) data points are also in their own group. Sales expense ratio values range from 60 to 150 and total expenses ramge from 215 to 360. The blue (consultant) data points also appear to be in their own group. Sales expense ratio values range from 90 to 290. ands total expenses range 240 to 400. The architect resource type is the most knowledgable of the three resource types. They are generally deployed to offer mentoring to consultants and do not perform the day to day operations of the project and therfore hours deliveries for this resouce type would be quite low. The resulting total expenses and sales expense ratio will be quite low. Program managers take care of the day to day management of the project, they are not required to deliver as many hours as consultants. The resulting total expenses and sales expense ratio would be in the mid range. Consultants perform most of the day to day operations of the project so as expected their hours deliveries are the highest of the group. Their hours deliveries and resulting total expenses and sales expense ratio are the highest of the group.\n",
    "\n",
    "\n",
    "**Sales expense ratio histogram**\n",
    "\n",
    "A histogram is a plot used for plotting one dimensional data. The sales expense ratio histogram is plotting the sales expense ratio values on the x axis and provides a graphical representation of their distribution, a normal distribution. The histogram uses bins to show the frequency of data in successive numerical intervals of equal size. Ref: Histogram The areas in which the bins of the histogram peak shows the mean of the data. The red (architect) sales expense ratio appears to peak around the mean of 49.19 and has the lowest peak on the histogram. The architect sales expense ratio has a standard deviation of 7.97 or 16% of it's mean.The blue (consultant) sales expense ratio appears to peak around the mean of 172.57. The consultant sales expenses ratio has a standard deviation of 32.28 or 19% of it's mean. The purple (purple) sales expense ratio appear to peak around the mean of 95.77. The program manager sales expense bratio has a standard deviation of 15.83 or 17% of it's mean. This is the lowest standard deviation of the three resource types. Because of this, the purple data on the histogram has the highest peak as we can expect lower swings in the bill rate charged for program manager hours. Although the mean of the resource types peak at different values, the shape of each of their plots is quite similar as their standard deviation to mean ratio is the same."
   ]
  },
  {
   "cell_type": "markdown",
   "metadata": {},
   "source": [
    "### 4. Detail your research and implement the simulation in a Jupyter Notebook - the data it self can simply be displayed in an ouput cell within the notebook"
   ]
  },
  {
   "cell_type": "markdown",
   "metadata": {},
   "source": [
    "![scikit](https://raw.githubusercontent.com/fionanealon/KPI/master/img/scikit-learn-logo.jpeg)"
   ]
  },
  {
   "cell_type": "markdown",
   "metadata": {},
   "source": [
    "## KNN \n",
    "\n"
   ]
  },
  {
   "cell_type": "markdown",
   "metadata": {},
   "source": [
    "Now that the data set has been simulated, we will now look at building a algorithm called k nearest neighbors that classifies the four variables of my data set. The algorithm will class the bill rate, hours, total expenses variables based on their numeric values. It will predict the class of their resource types - architect, consultant and program manager. It is key that some measurements are availble the class for those measurements are available. For example: there are fifty rows of measurements for each of the architect, consultant and program manager classes available on the consulting services data set. These measurements include bill rate, hours, total expenses and sales expenses ratio. Because these measurements of each class are available ot me, this is called a supervised learning problem. The goal of the algorithm is then to predict the class of resource type for measurements that have not been provided to it by the data set."
   ]
  },
  {
   "cell_type": "markdown",
   "metadata": {},
   "source": [
    "### Data"
   ]
  },
  {
   "cell_type": "markdown",
   "metadata": {},
   "source": [
    "The k nearest algorithm will be generated using the dataframe I have just simulated for the consulting services engagement. See data set in below output cell."
   ]
  },
  {
   "cell_type": "code",
   "execution_count": 20,
   "metadata": {},
   "outputs": [
    {
     "data": {
      "text/html": [
       "<div>\n",
       "<style scoped>\n",
       "    .dataframe tbody tr th:only-of-type {\n",
       "        vertical-align: middle;\n",
       "    }\n",
       "\n",
       "    .dataframe tbody tr th {\n",
       "        vertical-align: top;\n",
       "    }\n",
       "\n",
       "    .dataframe thead th {\n",
       "        text-align: right;\n",
       "    }\n",
       "</style>\n",
       "<table border=\"1\" class=\"dataframe\">\n",
       "  <thead>\n",
       "    <tr style=\"text-align: right;\">\n",
       "      <th></th>\n",
       "      <th>bill_rate</th>\n",
       "      <th>hours</th>\n",
       "      <th>total_expenses</th>\n",
       "      <th>sales_expense_ratio</th>\n",
       "      <th>resource_type</th>\n",
       "    </tr>\n",
       "  </thead>\n",
       "  <tbody>\n",
       "    <tr>\n",
       "      <th>0</th>\n",
       "      <td>166.38</td>\n",
       "      <td>81.73</td>\n",
       "      <td>243.38</td>\n",
       "      <td>55.872452</td>\n",
       "      <td>Architect</td>\n",
       "    </tr>\n",
       "    <tr>\n",
       "      <th>1</th>\n",
       "      <td>189.69</td>\n",
       "      <td>77.39</td>\n",
       "      <td>256.89</td>\n",
       "      <td>57.145506</td>\n",
       "      <td>Architect</td>\n",
       "    </tr>\n",
       "    <tr>\n",
       "      <th>2</th>\n",
       "      <td>198.56</td>\n",
       "      <td>74.26</td>\n",
       "      <td>227.74</td>\n",
       "      <td>64.745173</td>\n",
       "      <td>Architect</td>\n",
       "    </tr>\n",
       "    <tr>\n",
       "      <th>3</th>\n",
       "      <td>164.17</td>\n",
       "      <td>66.45</td>\n",
       "      <td>247.79</td>\n",
       "      <td>44.025572</td>\n",
       "      <td>Architect</td>\n",
       "    </tr>\n",
       "    <tr>\n",
       "      <th>4</th>\n",
       "      <td>142.43</td>\n",
       "      <td>69.85</td>\n",
       "      <td>268.69</td>\n",
       "      <td>37.026817</td>\n",
       "      <td>Architect</td>\n",
       "    </tr>\n",
       "    <tr>\n",
       "      <th>5</th>\n",
       "      <td>162.29</td>\n",
       "      <td>85.46</td>\n",
       "      <td>247.01</td>\n",
       "      <td>56.148753</td>\n",
       "      <td>Architect</td>\n",
       "    </tr>\n",
       "    <tr>\n",
       "      <th>6</th>\n",
       "      <td>176.57</td>\n",
       "      <td>88.83</td>\n",
       "      <td>244.43</td>\n",
       "      <td>64.168527</td>\n",
       "      <td>Architect</td>\n",
       "    </tr>\n",
       "    <tr>\n",
       "      <th>7</th>\n",
       "      <td>174.65</td>\n",
       "      <td>73.78</td>\n",
       "      <td>251.26</td>\n",
       "      <td>51.284235</td>\n",
       "      <td>Architect</td>\n",
       "    </tr>\n",
       "    <tr>\n",
       "      <th>8</th>\n",
       "      <td>160.05</td>\n",
       "      <td>84.76</td>\n",
       "      <td>241.13</td>\n",
       "      <td>56.259437</td>\n",
       "      <td>Architect</td>\n",
       "    </tr>\n",
       "    <tr>\n",
       "      <th>9</th>\n",
       "      <td>171.39</td>\n",
       "      <td>79.09</td>\n",
       "      <td>261.58</td>\n",
       "      <td>51.820610</td>\n",
       "      <td>Architect</td>\n",
       "    </tr>\n",
       "    <tr>\n",
       "      <th>10</th>\n",
       "      <td>159.96</td>\n",
       "      <td>66.05</td>\n",
       "      <td>286.00</td>\n",
       "      <td>36.941811</td>\n",
       "      <td>Architect</td>\n",
       "    </tr>\n",
       "    <tr>\n",
       "      <th>11</th>\n",
       "      <td>193.35</td>\n",
       "      <td>83.74</td>\n",
       "      <td>233.98</td>\n",
       "      <td>69.198773</td>\n",
       "      <td>Architect</td>\n",
       "    </tr>\n",
       "    <tr>\n",
       "      <th>12</th>\n",
       "      <td>125.10</td>\n",
       "      <td>69.96</td>\n",
       "      <td>251.68</td>\n",
       "      <td>34.774301</td>\n",
       "      <td>Architect</td>\n",
       "    </tr>\n",
       "    <tr>\n",
       "      <th>13</th>\n",
       "      <td>191.09</td>\n",
       "      <td>76.52</td>\n",
       "      <td>241.37</td>\n",
       "      <td>60.580051</td>\n",
       "      <td>Architect</td>\n",
       "    </tr>\n",
       "    <tr>\n",
       "      <th>14</th>\n",
       "      <td>198.20</td>\n",
       "      <td>70.97</td>\n",
       "      <td>280.94</td>\n",
       "      <td>50.068534</td>\n",
       "      <td>Architect</td>\n",
       "    </tr>\n",
       "    <tr>\n",
       "      <th>15</th>\n",
       "      <td>152.51</td>\n",
       "      <td>68.62</td>\n",
       "      <td>240.36</td>\n",
       "      <td>43.539841</td>\n",
       "      <td>Architect</td>\n",
       "    </tr>\n",
       "    <tr>\n",
       "      <th>16</th>\n",
       "      <td>173.31</td>\n",
       "      <td>65.89</td>\n",
       "      <td>242.64</td>\n",
       "      <td>47.063122</td>\n",
       "      <td>Architect</td>\n",
       "    </tr>\n",
       "    <tr>\n",
       "      <th>17</th>\n",
       "      <td>166.79</td>\n",
       "      <td>76.48</td>\n",
       "      <td>257.60</td>\n",
       "      <td>49.519019</td>\n",
       "      <td>Architect</td>\n",
       "    </tr>\n",
       "    <tr>\n",
       "      <th>18</th>\n",
       "      <td>184.54</td>\n",
       "      <td>57.71</td>\n",
       "      <td>253.86</td>\n",
       "      <td>41.951483</td>\n",
       "      <td>Architect</td>\n",
       "    </tr>\n",
       "    <tr>\n",
       "      <th>19</th>\n",
       "      <td>189.18</td>\n",
       "      <td>67.15</td>\n",
       "      <td>276.94</td>\n",
       "      <td>45.870719</td>\n",
       "      <td>Architect</td>\n",
       "    </tr>\n",
       "    <tr>\n",
       "      <th>20</th>\n",
       "      <td>169.14</td>\n",
       "      <td>70.45</td>\n",
       "      <td>245.69</td>\n",
       "      <td>48.499788</td>\n",
       "      <td>Architect</td>\n",
       "    </tr>\n",
       "    <tr>\n",
       "      <th>21</th>\n",
       "      <td>174.83</td>\n",
       "      <td>73.87</td>\n",
       "      <td>241.06</td>\n",
       "      <td>53.574596</td>\n",
       "      <td>Architect</td>\n",
       "    </tr>\n",
       "    <tr>\n",
       "      <th>22</th>\n",
       "      <td>155.79</td>\n",
       "      <td>70.82</td>\n",
       "      <td>239.25</td>\n",
       "      <td>46.115142</td>\n",
       "      <td>Architect</td>\n",
       "    </tr>\n",
       "    <tr>\n",
       "      <th>23</th>\n",
       "      <td>150.49</td>\n",
       "      <td>84.01</td>\n",
       "      <td>256.31</td>\n",
       "      <td>49.325679</td>\n",
       "      <td>Architect</td>\n",
       "    </tr>\n",
       "    <tr>\n",
       "      <th>24</th>\n",
       "      <td>165.74</td>\n",
       "      <td>94.18</td>\n",
       "      <td>229.82</td>\n",
       "      <td>67.920082</td>\n",
       "      <td>Architect</td>\n",
       "    </tr>\n",
       "    <tr>\n",
       "      <th>25</th>\n",
       "      <td>161.28</td>\n",
       "      <td>79.75</td>\n",
       "      <td>257.73</td>\n",
       "      <td>49.905250</td>\n",
       "      <td>Architect</td>\n",
       "    </tr>\n",
       "    <tr>\n",
       "      <th>26</th>\n",
       "      <td>194.51</td>\n",
       "      <td>73.00</td>\n",
       "      <td>226.48</td>\n",
       "      <td>62.695293</td>\n",
       "      <td>Architect</td>\n",
       "    </tr>\n",
       "    <tr>\n",
       "      <th>27</th>\n",
       "      <td>147.73</td>\n",
       "      <td>81.62</td>\n",
       "      <td>267.91</td>\n",
       "      <td>45.006616</td>\n",
       "      <td>Architect</td>\n",
       "    </tr>\n",
       "    <tr>\n",
       "      <th>28</th>\n",
       "      <td>182.22</td>\n",
       "      <td>60.24</td>\n",
       "      <td>262.51</td>\n",
       "      <td>41.815294</td>\n",
       "      <td>Architect</td>\n",
       "    </tr>\n",
       "    <tr>\n",
       "      <th>29</th>\n",
       "      <td>186.29</td>\n",
       "      <td>89.21</td>\n",
       "      <td>270.06</td>\n",
       "      <td>61.537921</td>\n",
       "      <td>Architect</td>\n",
       "    </tr>\n",
       "    <tr>\n",
       "      <th>...</th>\n",
       "      <td>...</td>\n",
       "      <td>...</td>\n",
       "      <td>...</td>\n",
       "      <td>...</td>\n",
       "      <td>...</td>\n",
       "    </tr>\n",
       "    <tr>\n",
       "      <th>120</th>\n",
       "      <td>137.65</td>\n",
       "      <td>178.43</td>\n",
       "      <td>350.26</td>\n",
       "      <td>70.121879</td>\n",
       "      <td>Program Manager</td>\n",
       "    </tr>\n",
       "    <tr>\n",
       "      <th>121</th>\n",
       "      <td>137.60</td>\n",
       "      <td>219.04</td>\n",
       "      <td>316.29</td>\n",
       "      <td>95.291992</td>\n",
       "      <td>Program Manager</td>\n",
       "    </tr>\n",
       "    <tr>\n",
       "      <th>122</th>\n",
       "      <td>131.90</td>\n",
       "      <td>241.58</td>\n",
       "      <td>253.92</td>\n",
       "      <td>125.489926</td>\n",
       "      <td>Program Manager</td>\n",
       "    </tr>\n",
       "    <tr>\n",
       "      <th>123</th>\n",
       "      <td>140.26</td>\n",
       "      <td>218.30</td>\n",
       "      <td>321.51</td>\n",
       "      <td>95.234232</td>\n",
       "      <td>Program Manager</td>\n",
       "    </tr>\n",
       "    <tr>\n",
       "      <th>124</th>\n",
       "      <td>163.62</td>\n",
       "      <td>209.32</td>\n",
       "      <td>318.28</td>\n",
       "      <td>107.606316</td>\n",
       "      <td>Program Manager</td>\n",
       "    </tr>\n",
       "    <tr>\n",
       "      <th>125</th>\n",
       "      <td>136.86</td>\n",
       "      <td>210.98</td>\n",
       "      <td>313.69</td>\n",
       "      <td>92.048592</td>\n",
       "      <td>Program Manager</td>\n",
       "    </tr>\n",
       "    <tr>\n",
       "      <th>126</th>\n",
       "      <td>136.48</td>\n",
       "      <td>235.99</td>\n",
       "      <td>302.12</td>\n",
       "      <td>106.606366</td>\n",
       "      <td>Program Manager</td>\n",
       "    </tr>\n",
       "    <tr>\n",
       "      <th>127</th>\n",
       "      <td>120.71</td>\n",
       "      <td>204.64</td>\n",
       "      <td>331.58</td>\n",
       "      <td>74.498143</td>\n",
       "      <td>Program Manager</td>\n",
       "    </tr>\n",
       "    <tr>\n",
       "      <th>128</th>\n",
       "      <td>130.74</td>\n",
       "      <td>211.39</td>\n",
       "      <td>292.15</td>\n",
       "      <td>94.599105</td>\n",
       "      <td>Program Manager</td>\n",
       "    </tr>\n",
       "    <tr>\n",
       "      <th>129</th>\n",
       "      <td>137.00</td>\n",
       "      <td>228.87</td>\n",
       "      <td>332.07</td>\n",
       "      <td>94.423435</td>\n",
       "      <td>Program Manager</td>\n",
       "    </tr>\n",
       "    <tr>\n",
       "      <th>130</th>\n",
       "      <td>134.18</td>\n",
       "      <td>219.82</td>\n",
       "      <td>317.01</td>\n",
       "      <td>93.042641</td>\n",
       "      <td>Program Manager</td>\n",
       "    </tr>\n",
       "    <tr>\n",
       "      <th>131</th>\n",
       "      <td>156.89</td>\n",
       "      <td>224.60</td>\n",
       "      <td>291.75</td>\n",
       "      <td>120.779757</td>\n",
       "      <td>Program Manager</td>\n",
       "    </tr>\n",
       "    <tr>\n",
       "      <th>132</th>\n",
       "      <td>118.18</td>\n",
       "      <td>241.00</td>\n",
       "      <td>314.28</td>\n",
       "      <td>90.624220</td>\n",
       "      <td>Program Manager</td>\n",
       "    </tr>\n",
       "    <tr>\n",
       "      <th>133</th>\n",
       "      <td>129.85</td>\n",
       "      <td>224.04</td>\n",
       "      <td>301.31</td>\n",
       "      <td>96.550377</td>\n",
       "      <td>Program Manager</td>\n",
       "    </tr>\n",
       "    <tr>\n",
       "      <th>134</th>\n",
       "      <td>137.76</td>\n",
       "      <td>211.13</td>\n",
       "      <td>320.56</td>\n",
       "      <td>90.732683</td>\n",
       "      <td>Program Manager</td>\n",
       "    </tr>\n",
       "    <tr>\n",
       "      <th>135</th>\n",
       "      <td>147.69</td>\n",
       "      <td>259.83</td>\n",
       "      <td>331.31</td>\n",
       "      <td>115.825942</td>\n",
       "      <td>Program Manager</td>\n",
       "    </tr>\n",
       "    <tr>\n",
       "      <th>136</th>\n",
       "      <td>140.29</td>\n",
       "      <td>173.86</td>\n",
       "      <td>311.88</td>\n",
       "      <td>78.205782</td>\n",
       "      <td>Program Manager</td>\n",
       "    </tr>\n",
       "    <tr>\n",
       "      <th>137</th>\n",
       "      <td>145.74</td>\n",
       "      <td>254.83</td>\n",
       "      <td>306.21</td>\n",
       "      <td>121.285798</td>\n",
       "      <td>Program Manager</td>\n",
       "    </tr>\n",
       "    <tr>\n",
       "      <th>138</th>\n",
       "      <td>131.55</td>\n",
       "      <td>173.17</td>\n",
       "      <td>276.89</td>\n",
       "      <td>82.272792</td>\n",
       "      <td>Program Manager</td>\n",
       "    </tr>\n",
       "    <tr>\n",
       "      <th>139</th>\n",
       "      <td>142.44</td>\n",
       "      <td>238.47</td>\n",
       "      <td>311.84</td>\n",
       "      <td>108.926587</td>\n",
       "      <td>Program Manager</td>\n",
       "    </tr>\n",
       "    <tr>\n",
       "      <th>140</th>\n",
       "      <td>115.19</td>\n",
       "      <td>218.03</td>\n",
       "      <td>300.28</td>\n",
       "      <td>83.638190</td>\n",
       "      <td>Program Manager</td>\n",
       "    </tr>\n",
       "    <tr>\n",
       "      <th>141</th>\n",
       "      <td>124.84</td>\n",
       "      <td>187.82</td>\n",
       "      <td>333.93</td>\n",
       "      <td>70.216659</td>\n",
       "      <td>Program Manager</td>\n",
       "    </tr>\n",
       "    <tr>\n",
       "      <th>142</th>\n",
       "      <td>130.09</td>\n",
       "      <td>234.21</td>\n",
       "      <td>312.77</td>\n",
       "      <td>97.414646</td>\n",
       "      <td>Program Manager</td>\n",
       "    </tr>\n",
       "    <tr>\n",
       "      <th>143</th>\n",
       "      <td>155.24</td>\n",
       "      <td>164.51</td>\n",
       "      <td>317.11</td>\n",
       "      <td>80.535248</td>\n",
       "      <td>Program Manager</td>\n",
       "    </tr>\n",
       "    <tr>\n",
       "      <th>144</th>\n",
       "      <td>142.46</td>\n",
       "      <td>206.92</td>\n",
       "      <td>229.73</td>\n",
       "      <td>128.315079</td>\n",
       "      <td>Program Manager</td>\n",
       "    </tr>\n",
       "    <tr>\n",
       "      <th>145</th>\n",
       "      <td>171.17</td>\n",
       "      <td>211.35</td>\n",
       "      <td>288.25</td>\n",
       "      <td>125.504873</td>\n",
       "      <td>Program Manager</td>\n",
       "    </tr>\n",
       "    <tr>\n",
       "      <th>146</th>\n",
       "      <td>153.71</td>\n",
       "      <td>193.87</td>\n",
       "      <td>306.68</td>\n",
       "      <td>97.168898</td>\n",
       "      <td>Program Manager</td>\n",
       "    </tr>\n",
       "    <tr>\n",
       "      <th>147</th>\n",
       "      <td>141.58</td>\n",
       "      <td>194.12</td>\n",
       "      <td>305.01</td>\n",
       "      <td>90.106913</td>\n",
       "      <td>Program Manager</td>\n",
       "    </tr>\n",
       "    <tr>\n",
       "      <th>148</th>\n",
       "      <td>166.48</td>\n",
       "      <td>211.09</td>\n",
       "      <td>269.07</td>\n",
       "      <td>130.606397</td>\n",
       "      <td>Program Manager</td>\n",
       "    </tr>\n",
       "    <tr>\n",
       "      <th>149</th>\n",
       "      <td>134.34</td>\n",
       "      <td>203.22</td>\n",
       "      <td>284.36</td>\n",
       "      <td>96.007085</td>\n",
       "      <td>Program Manager</td>\n",
       "    </tr>\n",
       "  </tbody>\n",
       "</table>\n",
       "<p>150 rows × 5 columns</p>\n",
       "</div>"
      ],
      "text/plain": [
       "     bill_rate   hours  total_expenses  sales_expense_ratio    resource_type\n",
       "0       166.38   81.73          243.38            55.872452        Architect\n",
       "1       189.69   77.39          256.89            57.145506        Architect\n",
       "2       198.56   74.26          227.74            64.745173        Architect\n",
       "3       164.17   66.45          247.79            44.025572        Architect\n",
       "4       142.43   69.85          268.69            37.026817        Architect\n",
       "5       162.29   85.46          247.01            56.148753        Architect\n",
       "6       176.57   88.83          244.43            64.168527        Architect\n",
       "7       174.65   73.78          251.26            51.284235        Architect\n",
       "8       160.05   84.76          241.13            56.259437        Architect\n",
       "9       171.39   79.09          261.58            51.820610        Architect\n",
       "10      159.96   66.05          286.00            36.941811        Architect\n",
       "11      193.35   83.74          233.98            69.198773        Architect\n",
       "12      125.10   69.96          251.68            34.774301        Architect\n",
       "13      191.09   76.52          241.37            60.580051        Architect\n",
       "14      198.20   70.97          280.94            50.068534        Architect\n",
       "15      152.51   68.62          240.36            43.539841        Architect\n",
       "16      173.31   65.89          242.64            47.063122        Architect\n",
       "17      166.79   76.48          257.60            49.519019        Architect\n",
       "18      184.54   57.71          253.86            41.951483        Architect\n",
       "19      189.18   67.15          276.94            45.870719        Architect\n",
       "20      169.14   70.45          245.69            48.499788        Architect\n",
       "21      174.83   73.87          241.06            53.574596        Architect\n",
       "22      155.79   70.82          239.25            46.115142        Architect\n",
       "23      150.49   84.01          256.31            49.325679        Architect\n",
       "24      165.74   94.18          229.82            67.920082        Architect\n",
       "25      161.28   79.75          257.73            49.905250        Architect\n",
       "26      194.51   73.00          226.48            62.695293        Architect\n",
       "27      147.73   81.62          267.91            45.006616        Architect\n",
       "28      182.22   60.24          262.51            41.815294        Architect\n",
       "29      186.29   89.21          270.06            61.537921        Architect\n",
       "..         ...     ...             ...                  ...              ...\n",
       "120     137.65  178.43          350.26            70.121879  Program Manager\n",
       "121     137.60  219.04          316.29            95.291992  Program Manager\n",
       "122     131.90  241.58          253.92           125.489926  Program Manager\n",
       "123     140.26  218.30          321.51            95.234232  Program Manager\n",
       "124     163.62  209.32          318.28           107.606316  Program Manager\n",
       "125     136.86  210.98          313.69            92.048592  Program Manager\n",
       "126     136.48  235.99          302.12           106.606366  Program Manager\n",
       "127     120.71  204.64          331.58            74.498143  Program Manager\n",
       "128     130.74  211.39          292.15            94.599105  Program Manager\n",
       "129     137.00  228.87          332.07            94.423435  Program Manager\n",
       "130     134.18  219.82          317.01            93.042641  Program Manager\n",
       "131     156.89  224.60          291.75           120.779757  Program Manager\n",
       "132     118.18  241.00          314.28            90.624220  Program Manager\n",
       "133     129.85  224.04          301.31            96.550377  Program Manager\n",
       "134     137.76  211.13          320.56            90.732683  Program Manager\n",
       "135     147.69  259.83          331.31           115.825942  Program Manager\n",
       "136     140.29  173.86          311.88            78.205782  Program Manager\n",
       "137     145.74  254.83          306.21           121.285798  Program Manager\n",
       "138     131.55  173.17          276.89            82.272792  Program Manager\n",
       "139     142.44  238.47          311.84           108.926587  Program Manager\n",
       "140     115.19  218.03          300.28            83.638190  Program Manager\n",
       "141     124.84  187.82          333.93            70.216659  Program Manager\n",
       "142     130.09  234.21          312.77            97.414646  Program Manager\n",
       "143     155.24  164.51          317.11            80.535248  Program Manager\n",
       "144     142.46  206.92          229.73           128.315079  Program Manager\n",
       "145     171.17  211.35          288.25           125.504873  Program Manager\n",
       "146     153.71  193.87          306.68            97.168898  Program Manager\n",
       "147     141.58  194.12          305.01            90.106913  Program Manager\n",
       "148     166.48  211.09          269.07           130.606397  Program Manager\n",
       "149     134.34  203.22          284.36            96.007085  Program Manager\n",
       "\n",
       "[150 rows x 5 columns]"
      ]
     },
     "execution_count": 20,
     "metadata": {},
     "output_type": "execute_result"
    }
   ],
   "source": [
    "df"
   ]
  },
  {
   "cell_type": "markdown",
   "metadata": {},
   "source": [
    "### Inputs and outputs"
   ]
  },
  {
   "cell_type": "markdown",
   "metadata": {},
   "source": [
    "Firstly, I need to separate the dataframe into a set of inputs and a set of outputs so that k nearest neighbors algorithm can be trained with a set of inputs for which we know the outputs for. The inputs will be the four variables for which are numeric in the data set - bill rate, hours, total expenses and sales expense ratio. Then I create a new variable called inputs and set it to the dataframe. This will in turn select a sub-selction of the dataframe (four of the colums from the dataframe). Another variable called outputs will be created and this will be a sub-selction of the class column of the dataframe."
   ]
  },
  {
   "cell_type": "code",
   "execution_count": 21,
   "metadata": {},
   "outputs": [],
   "source": [
    "inputs = df[['bill_rate', 'hours', 'total_expenses', 'sales_expense_ratio']]\n",
    "outputs = df['resource_type']"
   ]
  },
  {
   "cell_type": "markdown",
   "metadata": {},
   "source": [
    "### Classifier"
   ]
  },
  {
   "cell_type": "markdown",
   "metadata": {},
   "source": [
    "KNeighborsClassifier is a class in python and it represenst an instance of the k nearest neighboors setup. A data structure is created that represents the k nearest neighbors algorithm and k is set to five. So on the seaborn plots, k nearest neighbors will find the five nearest data points for each of the data points the plots. It will then take a majority vote from each of these data points and decide whether the class should be architect, consultant or program manager."
   ]
  },
  {
   "cell_type": "code",
   "execution_count": 22,
   "metadata": {},
   "outputs": [],
   "source": [
    "knn = nei.KNeighborsClassifier(n_neighbors=5)"
   ]
  },
  {
   "cell_type": "markdown",
   "metadata": {},
   "source": [
    "### Fit"
   ]
  },
  {
   "cell_type": "markdown",
   "metadata": {},
   "source": [
    "The classifier then needs to be trained on the data set. I will fit the classifier with the inputs for which I know the outputs so that it can build a model of each of the classes."
   ]
  },
  {
   "cell_type": "code",
   "execution_count": 23,
   "metadata": {},
   "outputs": [
    {
     "data": {
      "text/plain": [
       "KNeighborsClassifier(algorithm='auto', leaf_size=30, metric='minkowski',\n",
       "           metric_params=None, n_jobs=1, n_neighbors=5, p=2,\n",
       "           weights='uniform')"
      ]
     },
     "execution_count": 23,
     "metadata": {},
     "output_type": "execute_result"
    }
   ],
   "source": [
    "knn.fit(inputs, outputs)"
   ]
  },
  {
   "cell_type": "markdown",
   "metadata": {},
   "source": [
    "### Predict"
   ]
  },
  {
   "cell_type": "markdown",
   "metadata": {},
   "source": [
    "A prediction can now be made based on the trained k nearest neighbors classifier. To test the algorithm, I will select a row on the dataframe for which I already know the output - for example row 121 of the dataframe."
   ]
  },
  {
   "cell_type": "code",
   "execution_count": 24,
   "metadata": {},
   "outputs": [
    {
     "data": {
      "text/plain": [
       "bill_rate                        137.6\n",
       "hours                           219.04\n",
       "total_expenses                  316.29\n",
       "sales_expense_ratio             95.292\n",
       "resource_type          Program Manager\n",
       "Name: 121, dtype: object"
      ]
     },
     "execution_count": 24,
     "metadata": {},
     "output_type": "execute_result"
    }
   ],
   "source": [
    "df.loc[121]"
   ]
  },
  {
   "cell_type": "markdown",
   "metadata": {},
   "source": [
    "I can use the values of row 121 to predict the class of these values using knn.predict. In the below epample, knn has correctly predicted the program manager class."
   ]
  },
  {
   "cell_type": "code",
   "execution_count": 30,
   "metadata": {},
   "outputs": [
    {
     "data": {
      "text/plain": [
       "array(['Program Manager'], dtype=object)"
      ]
     },
     "execution_count": 30,
     "metadata": {},
     "output_type": "execute_result"
    }
   ],
   "source": [
    "knn.predict([[137.6, 219.04, 316.29, 95.29]])"
   ]
  },
  {
   "cell_type": "markdown",
   "metadata": {},
   "source": [
    "### Evaluate"
   ]
  },
  {
   "cell_type": "markdown",
   "metadata": {},
   "source": [
    "The knn.predict function takes sets of inputs and it predicts what the output should be for each of these inputs. If a suitable data set has been selected for the supervised learning algorithm. While the algorothim should be able to predict the output of of the inputs most of the time, unfortunately this does not happen all of the time. Using the below function, the number of correct predictions can be calculated. In the consulting services data set example, knn has predicted all classes correctly."
   ]
  },
  {
   "cell_type": "code",
   "execution_count": 26,
   "metadata": {},
   "outputs": [
    {
     "data": {
      "text/plain": [
       "150"
      ]
     },
     "execution_count": 26,
     "metadata": {},
     "output_type": "execute_result"
    }
   ],
   "source": [
    "(knn.predict(inputs) == outputs).sum()"
   ]
  },
  {
   "cell_type": "markdown",
   "metadata": {},
   "source": [
    "However, the classifer is supposed to make predictions about inputs it hasn't seen before not for ones it has seen before. Rather than fitting the knn with all of the inputs and outputs of the dataframe, we take a random selection of 100 rows of the dataframe and train the knn on those 100 and test the knn on the remaining 50. We can do this with the mod.train_test_split function. I pass in inputs and outputs and choose a test size of a third of the samples. The function returns four arrays - training inputs, testing inputs, training outputs and testing outputs."
   ]
  },
  {
   "cell_type": "code",
   "execution_count": 27,
   "metadata": {},
   "outputs": [],
   "source": [
    "inputs_train, inputs_test, outputs_train, outputs_test = mod.train_test_split(inputs, outputs, test_size=0.33)"
   ]
  },
  {
   "cell_type": "markdown",
   "metadata": {},
   "source": [
    "A new classifier then needs to be created for the new variables. The classifier then needs to be trained on the new inputs and ouputs."
   ]
  },
  {
   "cell_type": "code",
   "execution_count": 28,
   "metadata": {},
   "outputs": [
    {
     "data": {
      "text/plain": [
       "KNeighborsClassifier(algorithm='auto', leaf_size=30, metric='minkowski',\n",
       "           metric_params=None, n_jobs=1, n_neighbors=5, p=2,\n",
       "           weights='uniform')"
      ]
     },
     "execution_count": 28,
     "metadata": {},
     "output_type": "execute_result"
    }
   ],
   "source": [
    "knn = nei.KNeighborsClassifier(n_neighbors=5)\n",
    "knn.fit(inputs_train, outputs_train)"
   ]
  },
  {
   "cell_type": "markdown",
   "metadata": {},
   "source": [
    "Using knn.predict, I will predict the test inputs. The mod.train_test_split function has assisted knn is calculating all 50 of teh tets inputs correctly."
   ]
  },
  {
   "cell_type": "code",
   "execution_count": 29,
   "metadata": {},
   "outputs": [
    {
     "data": {
      "text/plain": [
       "50"
      ]
     },
     "execution_count": 29,
     "metadata": {},
     "output_type": "execute_result"
    }
   ],
   "source": [
    "(knn.predict(inputs_test) == outputs_test).sum()"
   ]
  },
  {
   "cell_type": "markdown",
   "metadata": {},
   "source": [
    "### End"
   ]
  }
 ],
 "metadata": {
  "kernelspec": {
   "display_name": "Python 3",
   "language": "python",
   "name": "python3"
  },
  "language_info": {
   "codemirror_mode": {
    "name": "ipython",
    "version": 3
   },
   "file_extension": ".py",
   "mimetype": "text/x-python",
   "name": "python",
   "nbconvert_exporter": "python",
   "pygments_lexer": "ipython3",
   "version": "3.6.4"
  }
 },
 "nbformat": 4,
 "nbformat_minor": 2
}
